{
  "nbformat": 4,
  "nbformat_minor": 0,
  "metadata": {
    "colab": {
      "name": "find-param-with-lgm.ipynb",
      "provenance": [],
      "mount_file_id": "1LdY9zahnpxB4Ykv5iwDL_vFqfOuKQury",
      "authorship_tag": "ABX9TyOFUwWiPf/7fezYHMbc1Dk4",
      "include_colab_link": true
    },
    "kernelspec": {
      "name": "python3",
      "display_name": "Python 3"
    }
  },
  "cells": [
    {
      "cell_type": "markdown",
      "metadata": {
        "id": "view-in-github",
        "colab_type": "text"
      },
      "source": [
        "<a href=\"https://colab.research.google.com/github/John1Tang/ML-000/blob/main/Week09/find_param_with_lgm.ipynb\" target=\"_parent\"><img src=\"https://colab.research.google.com/assets/colab-badge.svg\" alt=\"Open In Colab\"/></a>"
      ]
    },
    {
      "cell_type": "markdown",
      "metadata": {
        "id": "l1Ksi5LKel3S"
      },
      "source": [
        "## Task"
      ]
    },
    {
      "cell_type": "markdown",
      "metadata": {
        "id": "aXebFF6rUjUm"
      },
      "source": [
        "找到至少 1 个能够提升模型效果的衍生变量（以 lightgbm 为基础模型）。\r\n",
        "\r\n",
        "附件里是作业要用到的数据集，其中 loan_status 是 y 值"
      ]
    },
    {
      "cell_type": "code",
      "metadata": {
        "colab": {
          "base_uri": "https://localhost:8080/"
        },
        "id": "du9EKDnXo5EV",
        "outputId": "6554af2f-643a-4dcb-96d2-23a1e42aeaa1"
      },
      "source": [
        "!pip install lightgbm==3.1 --install-option=--gpu"
      ],
      "execution_count": 50,
      "outputs": [
        {
          "output_type": "stream",
          "text": [
            "/usr/local/lib/python3.7/dist-packages/pip/_internal/commands/install.py:283: UserWarning: Disabling all use of wheels due to the use of --build-options / --global-options / --install-options.\n",
            "  cmdoptions.check_install_build_global(options)\n",
            "Collecting lightgbm==3.1\n",
            "\u001b[?25l  Downloading https://files.pythonhosted.org/packages/15/a2/320ceab6556e94800ffd8e293da5fb89ff0157ea80f02a4fff148e87e0e4/lightgbm-3.1.0.tar.gz (754kB)\n",
            "\u001b[K     |████████████████████████████████| 757kB 6.6MB/s \n",
            "\u001b[?25hRequirement already satisfied: numpy in /usr/local/lib/python3.7/dist-packages (from lightgbm==3.1) (1.19.5)\n",
            "Requirement already satisfied: scipy in /usr/local/lib/python3.7/dist-packages (from lightgbm==3.1) (1.4.1)\n",
            "Requirement already satisfied: scikit-learn!=0.22.0 in /usr/local/lib/python3.7/dist-packages (from lightgbm==3.1) (0.22.2.post1)\n",
            "Requirement already satisfied: joblib>=0.11 in /usr/local/lib/python3.7/dist-packages (from scikit-learn!=0.22.0->lightgbm==3.1) (1.0.1)\n",
            "Skipping wheel build for lightgbm, due to binaries being disabled for it.\n",
            "Installing collected packages: lightgbm\n",
            "  Found existing installation: lightgbm 2.2.3\n",
            "    Uninstalling lightgbm-2.2.3:\n",
            "      Successfully uninstalled lightgbm-2.2.3\n",
            "    Running setup.py install for lightgbm ... \u001b[?25l\u001b[?25hdone\n",
            "Successfully installed lightgbm-3.1.0\n"
          ],
          "name": "stdout"
        }
      ]
    },
    {
      "cell_type": "markdown",
      "metadata": {
        "id": "R0E3qimHeqSz"
      },
      "source": [
        "### import"
      ]
    },
    {
      "cell_type": "code",
      "metadata": {
        "id": "Zp6dHq3gVZVL"
      },
      "source": [
        "import numpy as np\r\n",
        "import pandas as pd\r\n",
        "import lightgbm as lgb\r\n",
        "from sklearn.metrics import accuracy_score\r\n",
        "from sklearn.metrics import f1_score\r\n",
        "from sklearn.metrics import precision_score\r\n",
        "from sklearn.metrics import recall_score\r\n",
        "from sklearn.metrics import roc_auc_score\r\n",
        "from sklearn.model_selection import KFold"
      ],
      "execution_count": 56,
      "outputs": []
    },
    {
      "cell_type": "markdown",
      "metadata": {
        "id": "dh8y7jsoTn4f"
      },
      "source": [
        "### Load Data"
      ]
    },
    {
      "cell_type": "code",
      "metadata": {
        "id": "zaRcbl2RVbZI"
      },
      "source": [
        "train = pd.read_csv('drive/MyDrive/final/train_final.csv', engine='python')\r\n",
        "test = pd.read_csv('drive/MyDrive/final/test_final.csv', engine='python')"
      ],
      "execution_count": 57,
      "outputs": []
    },
    {
      "cell_type": "markdown",
      "metadata": {
        "id": "chFfheRnTu37"
      },
      "source": [
        "### Metadata"
      ]
    },
    {
      "cell_type": "code",
      "metadata": {
        "colab": {
          "base_uri": "https://localhost:8080/",
          "height": 253
        },
        "id": "D9wcxEyAT1NF",
        "outputId": "50c54d5d-3866-4dc1-b0f7-b67794a4c0b0"
      },
      "source": [
        "train.head()"
      ],
      "execution_count": 18,
      "outputs": [
        {
          "output_type": "execute_result",
          "data": {
            "text/html": [
              "<div>\n",
              "<style scoped>\n",
              "    .dataframe tbody tr th:only-of-type {\n",
              "        vertical-align: middle;\n",
              "    }\n",
              "\n",
              "    .dataframe tbody tr th {\n",
              "        vertical-align: top;\n",
              "    }\n",
              "\n",
              "    .dataframe thead th {\n",
              "        text-align: right;\n",
              "    }\n",
              "</style>\n",
              "<table border=\"1\" class=\"dataframe\">\n",
              "  <thead>\n",
              "    <tr style=\"text-align: right;\">\n",
              "      <th></th>\n",
              "      <th>continuous_annual_inc</th>\n",
              "      <th>continuous_annual_inc_joint</th>\n",
              "      <th>continuous_delinq_2yrs</th>\n",
              "      <th>continuous_dti</th>\n",
              "      <th>continuous_dti_joint</th>\n",
              "      <th>continuous_fico_range_high</th>\n",
              "      <th>continuous_fico_range_low</th>\n",
              "      <th>continuous_funded_amnt</th>\n",
              "      <th>continuous_funded_amnt_inv</th>\n",
              "      <th>continuous_inq_last_6mths</th>\n",
              "      <th>continuous_installment</th>\n",
              "      <th>continuous_int_rate</th>\n",
              "      <th>continuous_last_fico_range_high</th>\n",
              "      <th>continuous_last_fico_range_low</th>\n",
              "      <th>continuous_loan_amnt</th>\n",
              "      <th>loan_status</th>\n",
              "      <th>continuous_mths_since_last_delinq</th>\n",
              "      <th>continuous_mths_since_last_major_derog</th>\n",
              "      <th>continuous_mths_since_last_record</th>\n",
              "      <th>continuous_open_acc</th>\n",
              "      <th>continuous_pub_rec</th>\n",
              "      <th>discrete_addr_state_1_one_hot</th>\n",
              "      <th>discrete_addr_state_2_one_hot</th>\n",
              "      <th>discrete_addr_state_3_one_hot</th>\n",
              "      <th>discrete_addr_state_4_one_hot</th>\n",
              "      <th>discrete_addr_state_5_one_hot</th>\n",
              "      <th>discrete_addr_state_6_one_hot</th>\n",
              "      <th>discrete_addr_state_7_one_hot</th>\n",
              "      <th>discrete_addr_state_8_one_hot</th>\n",
              "      <th>discrete_addr_state_9_one_hot</th>\n",
              "      <th>discrete_addr_state_10_one_hot</th>\n",
              "      <th>discrete_addr_state_11_one_hot</th>\n",
              "      <th>discrete_addr_state_12_one_hot</th>\n",
              "      <th>discrete_addr_state_13_one_hot</th>\n",
              "      <th>discrete_addr_state_14_one_hot</th>\n",
              "      <th>discrete_addr_state_15_one_hot</th>\n",
              "      <th>discrete_addr_state_16_one_hot</th>\n",
              "      <th>discrete_addr_state_17_one_hot</th>\n",
              "      <th>discrete_addr_state_18_one_hot</th>\n",
              "      <th>discrete_addr_state_19_one_hot</th>\n",
              "      <th>...</th>\n",
              "      <th>discrete_purpose_11_one_hot</th>\n",
              "      <th>discrete_purpose_12_one_hot</th>\n",
              "      <th>discrete_pymnt_plan_1_one_hot</th>\n",
              "      <th>discrete_sub_grade_1_one_hot</th>\n",
              "      <th>discrete_sub_grade_2_one_hot</th>\n",
              "      <th>discrete_sub_grade_3_one_hot</th>\n",
              "      <th>discrete_sub_grade_4_one_hot</th>\n",
              "      <th>discrete_sub_grade_5_one_hot</th>\n",
              "      <th>discrete_sub_grade_6_one_hot</th>\n",
              "      <th>discrete_sub_grade_7_one_hot</th>\n",
              "      <th>discrete_sub_grade_8_one_hot</th>\n",
              "      <th>discrete_sub_grade_9_one_hot</th>\n",
              "      <th>discrete_sub_grade_10_one_hot</th>\n",
              "      <th>discrete_sub_grade_11_one_hot</th>\n",
              "      <th>discrete_sub_grade_12_one_hot</th>\n",
              "      <th>discrete_sub_grade_13_one_hot</th>\n",
              "      <th>discrete_sub_grade_14_one_hot</th>\n",
              "      <th>discrete_sub_grade_15_one_hot</th>\n",
              "      <th>discrete_sub_grade_16_one_hot</th>\n",
              "      <th>discrete_sub_grade_17_one_hot</th>\n",
              "      <th>discrete_sub_grade_18_one_hot</th>\n",
              "      <th>discrete_sub_grade_19_one_hot</th>\n",
              "      <th>discrete_sub_grade_20_one_hot</th>\n",
              "      <th>discrete_sub_grade_21_one_hot</th>\n",
              "      <th>discrete_sub_grade_22_one_hot</th>\n",
              "      <th>discrete_sub_grade_23_one_hot</th>\n",
              "      <th>discrete_sub_grade_24_one_hot</th>\n",
              "      <th>discrete_sub_grade_25_one_hot</th>\n",
              "      <th>discrete_sub_grade_26_one_hot</th>\n",
              "      <th>discrete_sub_grade_27_one_hot</th>\n",
              "      <th>discrete_sub_grade_28_one_hot</th>\n",
              "      <th>discrete_sub_grade_29_one_hot</th>\n",
              "      <th>discrete_sub_grade_30_one_hot</th>\n",
              "      <th>discrete_sub_grade_31_one_hot</th>\n",
              "      <th>discrete_sub_grade_32_one_hot</th>\n",
              "      <th>discrete_sub_grade_33_one_hot</th>\n",
              "      <th>discrete_sub_grade_34_one_hot</th>\n",
              "      <th>discrete_sub_grade_35_one_hot</th>\n",
              "      <th>discrete_term_1_one_hot</th>\n",
              "      <th>discrete_term_2_one_hot</th>\n",
              "    </tr>\n",
              "  </thead>\n",
              "  <tbody>\n",
              "    <tr>\n",
              "      <th>0</th>\n",
              "      <td>55000.0</td>\n",
              "      <td>NaN</td>\n",
              "      <td>0.0</td>\n",
              "      <td>5.91</td>\n",
              "      <td>NaN</td>\n",
              "      <td>679.0</td>\n",
              "      <td>675.0</td>\n",
              "      <td>3600.0</td>\n",
              "      <td>3600.0</td>\n",
              "      <td>1.0</td>\n",
              "      <td>123.03</td>\n",
              "      <td>13.99</td>\n",
              "      <td>564.0</td>\n",
              "      <td>560.0</td>\n",
              "      <td>3600.0</td>\n",
              "      <td>1</td>\n",
              "      <td>30.0</td>\n",
              "      <td>30.0</td>\n",
              "      <td>NaN</td>\n",
              "      <td>7.0</td>\n",
              "      <td>0.0</td>\n",
              "      <td>1</td>\n",
              "      <td>0</td>\n",
              "      <td>0</td>\n",
              "      <td>0</td>\n",
              "      <td>0</td>\n",
              "      <td>0</td>\n",
              "      <td>0</td>\n",
              "      <td>0</td>\n",
              "      <td>0</td>\n",
              "      <td>0</td>\n",
              "      <td>0</td>\n",
              "      <td>0</td>\n",
              "      <td>0</td>\n",
              "      <td>0</td>\n",
              "      <td>0</td>\n",
              "      <td>0</td>\n",
              "      <td>0</td>\n",
              "      <td>0</td>\n",
              "      <td>0</td>\n",
              "      <td>...</td>\n",
              "      <td>0</td>\n",
              "      <td>0</td>\n",
              "      <td>1</td>\n",
              "      <td>1</td>\n",
              "      <td>0</td>\n",
              "      <td>0</td>\n",
              "      <td>0</td>\n",
              "      <td>0</td>\n",
              "      <td>0</td>\n",
              "      <td>0</td>\n",
              "      <td>0</td>\n",
              "      <td>0</td>\n",
              "      <td>0</td>\n",
              "      <td>0</td>\n",
              "      <td>0</td>\n",
              "      <td>0</td>\n",
              "      <td>0</td>\n",
              "      <td>0</td>\n",
              "      <td>0</td>\n",
              "      <td>0</td>\n",
              "      <td>0</td>\n",
              "      <td>0</td>\n",
              "      <td>0</td>\n",
              "      <td>0</td>\n",
              "      <td>0</td>\n",
              "      <td>0</td>\n",
              "      <td>0</td>\n",
              "      <td>0</td>\n",
              "      <td>0</td>\n",
              "      <td>0</td>\n",
              "      <td>0</td>\n",
              "      <td>0</td>\n",
              "      <td>0</td>\n",
              "      <td>0</td>\n",
              "      <td>0</td>\n",
              "      <td>0</td>\n",
              "      <td>0</td>\n",
              "      <td>0</td>\n",
              "      <td>1</td>\n",
              "      <td>0</td>\n",
              "    </tr>\n",
              "    <tr>\n",
              "      <th>1</th>\n",
              "      <td>65000.0</td>\n",
              "      <td>NaN</td>\n",
              "      <td>1.0</td>\n",
              "      <td>16.06</td>\n",
              "      <td>NaN</td>\n",
              "      <td>719.0</td>\n",
              "      <td>715.0</td>\n",
              "      <td>24700.0</td>\n",
              "      <td>24700.0</td>\n",
              "      <td>4.0</td>\n",
              "      <td>820.28</td>\n",
              "      <td>11.99</td>\n",
              "      <td>699.0</td>\n",
              "      <td>695.0</td>\n",
              "      <td>24700.0</td>\n",
              "      <td>1</td>\n",
              "      <td>6.0</td>\n",
              "      <td>NaN</td>\n",
              "      <td>NaN</td>\n",
              "      <td>22.0</td>\n",
              "      <td>0.0</td>\n",
              "      <td>0</td>\n",
              "      <td>1</td>\n",
              "      <td>0</td>\n",
              "      <td>0</td>\n",
              "      <td>0</td>\n",
              "      <td>0</td>\n",
              "      <td>0</td>\n",
              "      <td>0</td>\n",
              "      <td>0</td>\n",
              "      <td>0</td>\n",
              "      <td>0</td>\n",
              "      <td>0</td>\n",
              "      <td>0</td>\n",
              "      <td>0</td>\n",
              "      <td>0</td>\n",
              "      <td>0</td>\n",
              "      <td>0</td>\n",
              "      <td>0</td>\n",
              "      <td>0</td>\n",
              "      <td>...</td>\n",
              "      <td>0</td>\n",
              "      <td>0</td>\n",
              "      <td>1</td>\n",
              "      <td>0</td>\n",
              "      <td>1</td>\n",
              "      <td>0</td>\n",
              "      <td>0</td>\n",
              "      <td>0</td>\n",
              "      <td>0</td>\n",
              "      <td>0</td>\n",
              "      <td>0</td>\n",
              "      <td>0</td>\n",
              "      <td>0</td>\n",
              "      <td>0</td>\n",
              "      <td>0</td>\n",
              "      <td>0</td>\n",
              "      <td>0</td>\n",
              "      <td>0</td>\n",
              "      <td>0</td>\n",
              "      <td>0</td>\n",
              "      <td>0</td>\n",
              "      <td>0</td>\n",
              "      <td>0</td>\n",
              "      <td>0</td>\n",
              "      <td>0</td>\n",
              "      <td>0</td>\n",
              "      <td>0</td>\n",
              "      <td>0</td>\n",
              "      <td>0</td>\n",
              "      <td>0</td>\n",
              "      <td>0</td>\n",
              "      <td>0</td>\n",
              "      <td>0</td>\n",
              "      <td>0</td>\n",
              "      <td>0</td>\n",
              "      <td>0</td>\n",
              "      <td>0</td>\n",
              "      <td>0</td>\n",
              "      <td>1</td>\n",
              "      <td>0</td>\n",
              "    </tr>\n",
              "    <tr>\n",
              "      <th>2</th>\n",
              "      <td>63000.0</td>\n",
              "      <td>71000.0</td>\n",
              "      <td>0.0</td>\n",
              "      <td>10.78</td>\n",
              "      <td>13.85</td>\n",
              "      <td>699.0</td>\n",
              "      <td>695.0</td>\n",
              "      <td>20000.0</td>\n",
              "      <td>20000.0</td>\n",
              "      <td>0.0</td>\n",
              "      <td>432.66</td>\n",
              "      <td>10.78</td>\n",
              "      <td>704.0</td>\n",
              "      <td>700.0</td>\n",
              "      <td>20000.0</td>\n",
              "      <td>1</td>\n",
              "      <td>NaN</td>\n",
              "      <td>NaN</td>\n",
              "      <td>NaN</td>\n",
              "      <td>6.0</td>\n",
              "      <td>0.0</td>\n",
              "      <td>0</td>\n",
              "      <td>0</td>\n",
              "      <td>1</td>\n",
              "      <td>0</td>\n",
              "      <td>0</td>\n",
              "      <td>0</td>\n",
              "      <td>0</td>\n",
              "      <td>0</td>\n",
              "      <td>0</td>\n",
              "      <td>0</td>\n",
              "      <td>0</td>\n",
              "      <td>0</td>\n",
              "      <td>0</td>\n",
              "      <td>0</td>\n",
              "      <td>0</td>\n",
              "      <td>0</td>\n",
              "      <td>0</td>\n",
              "      <td>0</td>\n",
              "      <td>0</td>\n",
              "      <td>...</td>\n",
              "      <td>0</td>\n",
              "      <td>0</td>\n",
              "      <td>1</td>\n",
              "      <td>0</td>\n",
              "      <td>0</td>\n",
              "      <td>1</td>\n",
              "      <td>0</td>\n",
              "      <td>0</td>\n",
              "      <td>0</td>\n",
              "      <td>0</td>\n",
              "      <td>0</td>\n",
              "      <td>0</td>\n",
              "      <td>0</td>\n",
              "      <td>0</td>\n",
              "      <td>0</td>\n",
              "      <td>0</td>\n",
              "      <td>0</td>\n",
              "      <td>0</td>\n",
              "      <td>0</td>\n",
              "      <td>0</td>\n",
              "      <td>0</td>\n",
              "      <td>0</td>\n",
              "      <td>0</td>\n",
              "      <td>0</td>\n",
              "      <td>0</td>\n",
              "      <td>0</td>\n",
              "      <td>0</td>\n",
              "      <td>0</td>\n",
              "      <td>0</td>\n",
              "      <td>0</td>\n",
              "      <td>0</td>\n",
              "      <td>0</td>\n",
              "      <td>0</td>\n",
              "      <td>0</td>\n",
              "      <td>0</td>\n",
              "      <td>0</td>\n",
              "      <td>0</td>\n",
              "      <td>0</td>\n",
              "      <td>0</td>\n",
              "      <td>1</td>\n",
              "    </tr>\n",
              "    <tr>\n",
              "      <th>3</th>\n",
              "      <td>104433.0</td>\n",
              "      <td>NaN</td>\n",
              "      <td>1.0</td>\n",
              "      <td>25.37</td>\n",
              "      <td>NaN</td>\n",
              "      <td>699.0</td>\n",
              "      <td>695.0</td>\n",
              "      <td>10400.0</td>\n",
              "      <td>10400.0</td>\n",
              "      <td>3.0</td>\n",
              "      <td>289.91</td>\n",
              "      <td>22.45</td>\n",
              "      <td>704.0</td>\n",
              "      <td>700.0</td>\n",
              "      <td>10400.0</td>\n",
              "      <td>1</td>\n",
              "      <td>12.0</td>\n",
              "      <td>NaN</td>\n",
              "      <td>NaN</td>\n",
              "      <td>12.0</td>\n",
              "      <td>0.0</td>\n",
              "      <td>1</td>\n",
              "      <td>0</td>\n",
              "      <td>0</td>\n",
              "      <td>0</td>\n",
              "      <td>0</td>\n",
              "      <td>0</td>\n",
              "      <td>0</td>\n",
              "      <td>0</td>\n",
              "      <td>0</td>\n",
              "      <td>0</td>\n",
              "      <td>0</td>\n",
              "      <td>0</td>\n",
              "      <td>0</td>\n",
              "      <td>0</td>\n",
              "      <td>0</td>\n",
              "      <td>0</td>\n",
              "      <td>0</td>\n",
              "      <td>0</td>\n",
              "      <td>0</td>\n",
              "      <td>...</td>\n",
              "      <td>0</td>\n",
              "      <td>0</td>\n",
              "      <td>1</td>\n",
              "      <td>0</td>\n",
              "      <td>0</td>\n",
              "      <td>0</td>\n",
              "      <td>1</td>\n",
              "      <td>0</td>\n",
              "      <td>0</td>\n",
              "      <td>0</td>\n",
              "      <td>0</td>\n",
              "      <td>0</td>\n",
              "      <td>0</td>\n",
              "      <td>0</td>\n",
              "      <td>0</td>\n",
              "      <td>0</td>\n",
              "      <td>0</td>\n",
              "      <td>0</td>\n",
              "      <td>0</td>\n",
              "      <td>0</td>\n",
              "      <td>0</td>\n",
              "      <td>0</td>\n",
              "      <td>0</td>\n",
              "      <td>0</td>\n",
              "      <td>0</td>\n",
              "      <td>0</td>\n",
              "      <td>0</td>\n",
              "      <td>0</td>\n",
              "      <td>0</td>\n",
              "      <td>0</td>\n",
              "      <td>0</td>\n",
              "      <td>0</td>\n",
              "      <td>0</td>\n",
              "      <td>0</td>\n",
              "      <td>0</td>\n",
              "      <td>0</td>\n",
              "      <td>0</td>\n",
              "      <td>0</td>\n",
              "      <td>0</td>\n",
              "      <td>1</td>\n",
              "    </tr>\n",
              "    <tr>\n",
              "      <th>4</th>\n",
              "      <td>34000.0</td>\n",
              "      <td>NaN</td>\n",
              "      <td>0.0</td>\n",
              "      <td>10.20</td>\n",
              "      <td>NaN</td>\n",
              "      <td>694.0</td>\n",
              "      <td>690.0</td>\n",
              "      <td>11950.0</td>\n",
              "      <td>11950.0</td>\n",
              "      <td>0.0</td>\n",
              "      <td>405.18</td>\n",
              "      <td>13.44</td>\n",
              "      <td>759.0</td>\n",
              "      <td>755.0</td>\n",
              "      <td>11950.0</td>\n",
              "      <td>1</td>\n",
              "      <td>NaN</td>\n",
              "      <td>NaN</td>\n",
              "      <td>NaN</td>\n",
              "      <td>5.0</td>\n",
              "      <td>0.0</td>\n",
              "      <td>0</td>\n",
              "      <td>0</td>\n",
              "      <td>0</td>\n",
              "      <td>1</td>\n",
              "      <td>0</td>\n",
              "      <td>0</td>\n",
              "      <td>0</td>\n",
              "      <td>0</td>\n",
              "      <td>0</td>\n",
              "      <td>0</td>\n",
              "      <td>0</td>\n",
              "      <td>0</td>\n",
              "      <td>0</td>\n",
              "      <td>0</td>\n",
              "      <td>0</td>\n",
              "      <td>0</td>\n",
              "      <td>0</td>\n",
              "      <td>0</td>\n",
              "      <td>0</td>\n",
              "      <td>...</td>\n",
              "      <td>0</td>\n",
              "      <td>0</td>\n",
              "      <td>1</td>\n",
              "      <td>0</td>\n",
              "      <td>0</td>\n",
              "      <td>0</td>\n",
              "      <td>0</td>\n",
              "      <td>1</td>\n",
              "      <td>0</td>\n",
              "      <td>0</td>\n",
              "      <td>0</td>\n",
              "      <td>0</td>\n",
              "      <td>0</td>\n",
              "      <td>0</td>\n",
              "      <td>0</td>\n",
              "      <td>0</td>\n",
              "      <td>0</td>\n",
              "      <td>0</td>\n",
              "      <td>0</td>\n",
              "      <td>0</td>\n",
              "      <td>0</td>\n",
              "      <td>0</td>\n",
              "      <td>0</td>\n",
              "      <td>0</td>\n",
              "      <td>0</td>\n",
              "      <td>0</td>\n",
              "      <td>0</td>\n",
              "      <td>0</td>\n",
              "      <td>0</td>\n",
              "      <td>0</td>\n",
              "      <td>0</td>\n",
              "      <td>0</td>\n",
              "      <td>0</td>\n",
              "      <td>0</td>\n",
              "      <td>0</td>\n",
              "      <td>0</td>\n",
              "      <td>0</td>\n",
              "      <td>0</td>\n",
              "      <td>1</td>\n",
              "      <td>0</td>\n",
              "    </tr>\n",
              "  </tbody>\n",
              "</table>\n",
              "<p>5 rows × 146 columns</p>\n",
              "</div>"
            ],
            "text/plain": [
              "   continuous_annual_inc  ...  discrete_term_2_one_hot\n",
              "0                55000.0  ...                        0\n",
              "1                65000.0  ...                        0\n",
              "2                63000.0  ...                        1\n",
              "3               104433.0  ...                        1\n",
              "4                34000.0  ...                        0\n",
              "\n",
              "[5 rows x 146 columns]"
            ]
          },
          "metadata": {
            "tags": []
          },
          "execution_count": 18
        }
      ]
    },
    {
      "cell_type": "markdown",
      "metadata": {
        "id": "YpK-_20JV-Cg"
      },
      "source": [
        "### Data Shape"
      ]
    },
    {
      "cell_type": "code",
      "metadata": {
        "id": "9odU4ZaOf9Yp"
      },
      "source": [
        "x_train = train.drop(columns=['loan_status'])\r\n",
        "x_test = test.drop(columns=['loan_status'])\r\n",
        "\r\n",
        "y_train = train[['loan_status']]\r\n",
        "y_test = test[['loan_status']]"
      ],
      "execution_count": 58,
      "outputs": []
    },
    {
      "cell_type": "code",
      "metadata": {
        "colab": {
          "base_uri": "https://localhost:8080/"
        },
        "id": "qjYuvt0GW1sX",
        "outputId": "ce0580ce-99d0-4616-b0f6-97b972da0ce5"
      },
      "source": [
        "train.shape"
      ],
      "execution_count": 17,
      "outputs": [
        {
          "output_type": "execute_result",
          "data": {
            "text/plain": [
              "(50000, 146)"
            ]
          },
          "metadata": {
            "tags": []
          },
          "execution_count": 17
        }
      ]
    },
    {
      "cell_type": "code",
      "metadata": {
        "colab": {
          "base_uri": "https://localhost:8080/"
        },
        "id": "7t5Y6wDRYuQ1",
        "outputId": "6ed1b9f4-b3fd-439c-8e18-b8450ebde4d3"
      },
      "source": [
        "train.shape[0] == sum(train['loan_status'].value_counts())"
      ],
      "execution_count": 59,
      "outputs": [
        {
          "output_type": "execute_result",
          "data": {
            "text/plain": [
              "True"
            ]
          },
          "metadata": {
            "tags": []
          },
          "execution_count": 59
        }
      ]
    },
    {
      "cell_type": "code",
      "metadata": {
        "colab": {
          "base_uri": "https://localhost:8080/"
        },
        "id": "IVVGsyQ8Z8sY",
        "outputId": "a98b0f34-7368-4685-f491-3b97a2cced45"
      },
      "source": [
        "train['loan_status'].value_counts()"
      ],
      "execution_count": 60,
      "outputs": [
        {
          "output_type": "execute_result",
          "data": {
            "text/plain": [
              "1    39788\n",
              "0    10212\n",
              "Name: loan_status, dtype: int64"
            ]
          },
          "metadata": {
            "tags": []
          },
          "execution_count": 60
        }
      ]
    },
    {
      "cell_type": "markdown",
      "metadata": {
        "id": "E1tjtDpCYnzl"
      },
      "source": [
        "### LGB Verify"
      ]
    },
    {
      "cell_type": "code",
      "metadata": {
        "id": "r-UzjTmKapon"
      },
      "source": [
        "train_dataset = lgb.Dataset(x_train, y_train)\r\n",
        "test_dataset = lgb.Dataset(x_test, y_test)"
      ],
      "execution_count": 61,
      "outputs": []
    },
    {
      "cell_type": "code",
      "metadata": {
        "id": "3rrCHisgi7nn"
      },
      "source": [
        "param = {'num_leaves': 31, 'objective': 'binary', 'metric':'binary_error'}\r\n",
        "num_round = 50"
      ],
      "execution_count": 62,
      "outputs": []
    },
    {
      "cell_type": "code",
      "metadata": {
        "colab": {
          "base_uri": "https://localhost:8080/"
        },
        "id": "e-vMqlzkjTp8",
        "outputId": "3a0b3845-a172-456a-9ea4-cc74c38a212b"
      },
      "source": [
        "model = lgb.train(param, train_dataset, num_boost_round=num_round, valid_sets=[train_dataset, test_dataset])"
      ],
      "execution_count": 63,
      "outputs": [
        {
          "output_type": "stream",
          "text": [
            "[1]\ttraining's binary_error: 0.20424\tvalid_1's binary_error: 0.19548\n",
            "[2]\ttraining's binary_error: 0.20424\tvalid_1's binary_error: 0.19548\n",
            "[3]\ttraining's binary_error: 0.20424\tvalid_1's binary_error: 0.19548\n",
            "[4]\ttraining's binary_error: 0.20424\tvalid_1's binary_error: 0.19548\n",
            "[5]\ttraining's binary_error: 0.14838\tvalid_1's binary_error: 0.14168\n",
            "[6]\ttraining's binary_error: 0.112\tvalid_1's binary_error: 0.11048\n",
            "[7]\ttraining's binary_error: 0.099\tvalid_1's binary_error: 0.10016\n",
            "[8]\ttraining's binary_error: 0.09384\tvalid_1's binary_error: 0.09572\n",
            "[9]\ttraining's binary_error: 0.08812\tvalid_1's binary_error: 0.09036\n",
            "[10]\ttraining's binary_error: 0.08416\tvalid_1's binary_error: 0.08636\n",
            "[11]\ttraining's binary_error: 0.08172\tvalid_1's binary_error: 0.08476\n",
            "[12]\ttraining's binary_error: 0.08048\tvalid_1's binary_error: 0.08422\n",
            "[13]\ttraining's binary_error: 0.07882\tvalid_1's binary_error: 0.08354\n",
            "[14]\ttraining's binary_error: 0.07806\tvalid_1's binary_error: 0.0832\n",
            "[15]\ttraining's binary_error: 0.07744\tvalid_1's binary_error: 0.08306\n",
            "[16]\ttraining's binary_error: 0.07668\tvalid_1's binary_error: 0.08308\n",
            "[17]\ttraining's binary_error: 0.07668\tvalid_1's binary_error: 0.08316\n",
            "[18]\ttraining's binary_error: 0.07638\tvalid_1's binary_error: 0.08284\n",
            "[19]\ttraining's binary_error: 0.07614\tvalid_1's binary_error: 0.08294\n",
            "[20]\ttraining's binary_error: 0.07588\tvalid_1's binary_error: 0.08308\n",
            "[21]\ttraining's binary_error: 0.0758\tvalid_1's binary_error: 0.08308\n",
            "[22]\ttraining's binary_error: 0.07566\tvalid_1's binary_error: 0.08302\n",
            "[23]\ttraining's binary_error: 0.07576\tvalid_1's binary_error: 0.08304\n",
            "[24]\ttraining's binary_error: 0.07522\tvalid_1's binary_error: 0.08316\n",
            "[25]\ttraining's binary_error: 0.07504\tvalid_1's binary_error: 0.08316\n",
            "[26]\ttraining's binary_error: 0.07492\tvalid_1's binary_error: 0.08298\n",
            "[27]\ttraining's binary_error: 0.07478\tvalid_1's binary_error: 0.08276\n",
            "[28]\ttraining's binary_error: 0.07458\tvalid_1's binary_error: 0.08278\n",
            "[29]\ttraining's binary_error: 0.0744\tvalid_1's binary_error: 0.08276\n",
            "[30]\ttraining's binary_error: 0.07434\tvalid_1's binary_error: 0.08252\n",
            "[31]\ttraining's binary_error: 0.07426\tvalid_1's binary_error: 0.08252\n",
            "[32]\ttraining's binary_error: 0.07402\tvalid_1's binary_error: 0.0825\n",
            "[33]\ttraining's binary_error: 0.0739\tvalid_1's binary_error: 0.08244\n",
            "[34]\ttraining's binary_error: 0.07382\tvalid_1's binary_error: 0.08242\n",
            "[35]\ttraining's binary_error: 0.07374\tvalid_1's binary_error: 0.08236\n",
            "[36]\ttraining's binary_error: 0.07382\tvalid_1's binary_error: 0.08248\n",
            "[37]\ttraining's binary_error: 0.07362\tvalid_1's binary_error: 0.0825\n",
            "[38]\ttraining's binary_error: 0.07362\tvalid_1's binary_error: 0.08248\n",
            "[39]\ttraining's binary_error: 0.07354\tvalid_1's binary_error: 0.08244\n",
            "[40]\ttraining's binary_error: 0.07346\tvalid_1's binary_error: 0.0822\n",
            "[41]\ttraining's binary_error: 0.0735\tvalid_1's binary_error: 0.08218\n",
            "[42]\ttraining's binary_error: 0.07328\tvalid_1's binary_error: 0.08228\n",
            "[43]\ttraining's binary_error: 0.07334\tvalid_1's binary_error: 0.08238\n",
            "[44]\ttraining's binary_error: 0.07332\tvalid_1's binary_error: 0.08236\n",
            "[45]\ttraining's binary_error: 0.07292\tvalid_1's binary_error: 0.08236\n",
            "[46]\ttraining's binary_error: 0.07296\tvalid_1's binary_error: 0.08246\n",
            "[47]\ttraining's binary_error: 0.07294\tvalid_1's binary_error: 0.08252\n",
            "[48]\ttraining's binary_error: 0.07306\tvalid_1's binary_error: 0.08256\n",
            "[49]\ttraining's binary_error: 0.07304\tvalid_1's binary_error: 0.0826\n",
            "[50]\ttraining's binary_error: 0.07304\tvalid_1's binary_error: 0.08258\n"
          ],
          "name": "stdout"
        }
      ]
    },
    {
      "cell_type": "code",
      "metadata": {
        "colab": {
          "base_uri": "https://localhost:8080/"
        },
        "id": "ERCnBvLMnC3u",
        "outputId": "bcaf5393-1eb3-468b-c3e8-6161577b3b1d"
      },
      "source": [
        "lgb.cv(param, train_dataset, num_round, nfold=5)"
      ],
      "execution_count": 64,
      "outputs": [
        {
          "output_type": "execute_result",
          "data": {
            "text/plain": [
              "{'binary_error-mean': [0.20424000000000003,\n",
              "  0.20424000000000003,\n",
              "  0.20424000000000003,\n",
              "  0.20424000000000003,\n",
              "  0.14848,\n",
              "  0.1135,\n",
              "  0.10152000000000001,\n",
              "  0.09522000000000001,\n",
              "  0.09058,\n",
              "  0.08738,\n",
              "  0.08548,\n",
              "  0.08399999999999999,\n",
              "  0.08266,\n",
              "  0.08184,\n",
              "  0.08158,\n",
              "  0.08134,\n",
              "  0.08112,\n",
              "  0.08108,\n",
              "  0.08126,\n",
              "  0.08124,\n",
              "  0.08127999999999999,\n",
              "  0.08114,\n",
              "  0.08114,\n",
              "  0.08114,\n",
              "  0.08106,\n",
              "  0.08091999999999999,\n",
              "  0.08092,\n",
              "  0.08102000000000001,\n",
              "  0.08109999999999999,\n",
              "  0.08094000000000001,\n",
              "  0.08112,\n",
              "  0.08093999999999998,\n",
              "  0.08096,\n",
              "  0.08102000000000001,\n",
              "  0.08118,\n",
              "  0.08122,\n",
              "  0.08112,\n",
              "  0.08113999999999999,\n",
              "  0.08120000000000001,\n",
              "  0.08112,\n",
              "  0.08109999999999999,\n",
              "  0.08084,\n",
              "  0.08091999999999999,\n",
              "  0.08094,\n",
              "  0.08096,\n",
              "  0.08081999999999999,\n",
              "  0.08092,\n",
              "  0.08102000000000001,\n",
              "  0.08098000000000001,\n",
              "  0.08114],\n",
              " 'binary_error-stdv': [4.898979485567176e-05,\n",
              "  4.898979485567176e-05,\n",
              "  4.898979485567176e-05,\n",
              "  4.898979485567176e-05,\n",
              "  0.0018925115587493824,\n",
              "  0.003964341054954783,\n",
              "  0.002805993585167291,\n",
              "  0.0030268135059828187,\n",
              "  0.002660375913287443,\n",
              "  0.0021245234759823223,\n",
              "  0.0022577865266672145,\n",
              "  0.0025768197453450263,\n",
              "  0.003147443406957462,\n",
              "  0.0033885690195125124,\n",
              "  0.0037015672356449226,\n",
              "  0.003597554725087583,\n",
              "  0.00377486423596929,\n",
              "  0.0035085039546792567,\n",
              "  0.003215960198758686,\n",
              "  0.002858391155877726,\n",
              "  0.0028308302669005077,\n",
              "  0.002953370955366089,\n",
              "  0.0028132543432828816,\n",
              "  0.0027514359887157117,\n",
              "  0.0026173268806169363,\n",
              "  0.0027938503896951946,\n",
              "  0.0028180844557961727,\n",
              "  0.0026551082840441773,\n",
              "  0.0028255972819918977,\n",
              "  0.0025919876542915866,\n",
              "  0.0025474693324945056,\n",
              "  0.002536611913557137,\n",
              "  0.002611972434770323,\n",
              "  0.0025949181104612906,\n",
              "  0.002706584563615181,\n",
              "  0.0025537423519219828,\n",
              "  0.002479032069175388,\n",
              "  0.002570291812226775,\n",
              "  0.0027085051227568307,\n",
              "  0.0026865591376331183,\n",
              "  0.0027553584158871236,\n",
              "  0.0026867080228413355,\n",
              "  0.0026194655943531696,\n",
              "  0.002591215930793879,\n",
              "  0.0025207935258564893,\n",
              "  0.002389476930208784,\n",
              "  0.0024383601046605047,\n",
              "  0.002479838704432204,\n",
              "  0.0025949181104612928,\n",
              "  0.0024727312834192075]}"
            ]
          },
          "metadata": {
            "tags": []
          },
          "execution_count": 64
        }
      ]
    },
    {
      "cell_type": "code",
      "metadata": {
        "id": "n6FRJF6CqFzd"
      },
      "source": [
        "import io\r\n",
        "import multiprocessing\r\n",
        "from contextlib import redirect_stdout\r\n",
        "from copy import deepcopy\r\n",
        "from dataclasses import dataclass, asdict\r\n",
        "import hyperopt.pyll\r\n",
        "from hyperopt import fmin, tpe, hp\r\n",
        "import numpy as np\r\n",
        "import lightgbm as lgb\r\n",
        "from sklearn.metrics import accuracy_score\r\n",
        "from sklearn.metrics import f1_score\r\n",
        "from sklearn.metrics import precision_score\r\n",
        "from sklearn.metrics import recall_score\r\n",
        "from sklearn.metrics import roc_auc_score\r\n",
        "from sklearn.metrics import mean_squared_error\r\n",
        "import torch\r\n",
        "\r\n",
        "import copy\r\n",
        "cpu_count = 4\r\n",
        "use_gpu = False\r\n",
        "@dataclass\r\n",
        "class LGBOpt:\r\n",
        "    num_threads: any = hp.choice('num_threads', [cpu_count])\r\n",
        "    num_leaves: any = hp.choice('num_leaves', [64])\r\n",
        "    metric: any = hp.choice('metric', ['binary_error'])\r\n",
        "    num_round: any = hp.choice('num_rounds', [1000])\r\n",
        "    objective: any = hp.choice('objective', ['binary'])\r\n",
        "    learning_rate: any = hp.uniform('learning_rate', 0.01, 0.1)\r\n",
        "    feature_fraction: any = hp.uniform('feature_fraction', 0.5, 1.0)\r\n",
        "    bagging_fraction: any = hp.uniform('bagging_fraction', 0.8, 1.0)\r\n",
        "    device_type: any = hp.choice('device_tpye', ['gpu']) if use_gpu else hp.choice('device_type',\r\n",
        "                                                                                   ['cpu'])\r\n",
        "    boosting: any = hp.choice('boosting', ['gbdt', 'dart', 'goss'])\r\n",
        "    extra_trees: any = hp.choice('extra_tress', [False, True])\r\n",
        "    drop_rate: any = hp.uniform('drop_rate', 0, 0.2)\r\n",
        "    uniform_drop: any = hp.choice('uniform_drop', [True, False])\r\n",
        "    lambda_l1: any = hp.uniform('lambda_l1', 0, 10)  # TODO: Check range\r\n",
        "    lambda_l2: any = hp.uniform('lambda_l2', 0, 10)  # TODO: Check range\r\n",
        "    min_gain_to_split: any = hp.uniform('min_gain_to_split', 0, 1)  # TODO: Check range\r\n",
        "    min_data_in_bin = hp.choice('min_data_in_bin', [3, 5, 10, 15, 20, 50])\r\n",
        "\r\n",
        "    @staticmethod\r\n",
        "    def get_common_params():\r\n",
        "        return {'num_thread': 4, 'num_leaves': 12, 'metric': 'binary', 'objective': 'binary',\r\n",
        "                'num_round': 1000, 'learning_rate': 0.01, 'feature_fraction': 0.8, 'bagging_fraction': 0.8}"
      ],
      "execution_count": 67,
      "outputs": []
    },
    {
      "cell_type": "code",
      "metadata": {
        "id": "0eaiQy4UqqCd"
      },
      "source": [
        "class FitterBase(object):\r\n",
        "    def __init__(self, label, metric, max_eval=100, opt=None):\r\n",
        "        self.label = label\r\n",
        "        self.metric = metric\r\n",
        "        self.opt_params = dict()\r\n",
        "        self.max_eval = max_eval\r\n",
        "        self.opt = opt\r\n",
        "\r\n",
        "    def get_loss(self, y, y_pred):\r\n",
        "        if self.metric == 'error':\r\n",
        "            return 1 - accuracy_score(y, y_pred)\r\n",
        "        elif self.metric == 'precision':\r\n",
        "            return 1 - precision_score(y, y_pred)\r\n",
        "        elif self.metric == 'recall':\r\n",
        "            return 1 - recall_score(y, y_pred)\r\n",
        "        elif self.metric == 'macro_f1':\r\n",
        "            return 1 - f1_score(y, y_pred, average='macro')\r\n",
        "        elif self.metric == 'micro_f1':\r\n",
        "            return 1 - f1_score(y, y_pred, average='micro')\r\n",
        "        elif self.metric == 'auc':  # TODO: Add a warning checking if y_predict is all [0, 1], it should be probability\r\n",
        "            return 1 - roc_auc_score(y, y_pred)\r\n",
        "        else:\r\n",
        "            raise Exception(\"Not implemented yet.\")"
      ],
      "execution_count": 68,
      "outputs": []
    },
    {
      "cell_type": "code",
      "metadata": {
        "id": "VRwK0mdgqvE9"
      },
      "source": [
        "class LGBFitter(FitterBase):\r\n",
        "    def __init__(self, label='label', metric='error', opt: LGBOpt = None, max_eval=100):\r\n",
        "        super(LGBFitter, self).__init__(label, metric, max_eval)\r\n",
        "        if opt is not None:\r\n",
        "            self.opt = opt\r\n",
        "        else:\r\n",
        "            self.opt = LGBOpt()\r\n",
        "        self.best_round = None\r\n",
        "        self.clf = None\r\n",
        "\r\n",
        "    def train(self, train_df, eval_df, params=None, use_best_eval=True):\r\n",
        "        self.best_round = None\r\n",
        "        dtrain = lgb.Dataset(train_df.drop(columns=[self.label]), train_df[self.label])\r\n",
        "        deval = lgb.Dataset(eval_df.drop(columns=[self.label]), eval_df[self.label])\r\n",
        "        evallist = [dtrain, deval]\r\n",
        "        if params is None:\r\n",
        "            use_params = deepcopy(self.opt_params)\r\n",
        "        else:\r\n",
        "            use_params = deepcopy(params)\r\n",
        "\r\n",
        "        num_round = use_params.pop('num_round')\r\n",
        "        if use_best_eval:\r\n",
        "            with io.StringIO() as buf, redirect_stdout(buf):\r\n",
        "                self.clf = lgb.train(use_params, dtrain, num_round, valid_sets=evallist)\r\n",
        "                output = buf.getvalue().split(\"\\n\")\r\n",
        "            min_error = np.inf\r\n",
        "            min_index = 0\r\n",
        "            for idx in range(len(output) - 1):\r\n",
        "                if len(output[idx].split(\"\\t\")) == 3:\r\n",
        "                    temp = float(output[idx].split(\"\\t\")[2].split(\":\")[1])\r\n",
        "                    if min_error > temp:\r\n",
        "                        min_error = temp\r\n",
        "                        min_index = int(output[idx].split(\"\\t\")[0][1:-1])\r\n",
        "            print(\"The minimum is attained in round %d\" % (min_index + 1))\r\n",
        "            self.best_round = min_index + 1\r\n",
        "            return output\r\n",
        "        else:\r\n",
        "            with io.StringIO() as buf, redirect_stdout(buf):\r\n",
        "                self.clf = lgb.train(use_params, dtrain, num_round, valid_sets=evallist)\r\n",
        "                output = buf.getvalue().split(\"\\n\")\r\n",
        "            self.best_round = num_round\r\n",
        "            return output\r\n",
        "\r\n",
        "    def search(self, train_df, eval_df, use_best_eval=True):\r\n",
        "        self.opt_params = dict()\r\n",
        "\r\n",
        "        def train_impl(params):\r\n",
        "            self.train(train_df, eval_df, params, use_best_eval)\r\n",
        "            if self.metric == 'auc':\r\n",
        "                y_pred = self.clf.predict(eval_df.drop(columns=[self.label]), num_iteration=self.best_round)\r\n",
        "            else:\r\n",
        "                y_pred = (self.clf.predict(eval_df.drop(columns=[self.label]),\r\n",
        "                                           num_iteration=self.best_round) > 0.5).astype(int)\r\n",
        "            return self.get_loss(eval_df[self.label], y_pred)\r\n",
        "\r\n",
        "        self.opt_params = fmin(train_impl, asdict(self.opt), algo=tpe.suggest, max_evals=self.max_eval)\r\n",
        "\r\n",
        "    def search_k_fold(self, k_fold, data, use_best_eval=True):\r\n",
        "        self.opt_params = dict()\r\n",
        "\r\n",
        "        def train_impl_nfold(params):\r\n",
        "            loss = list()\r\n",
        "            for train_id, eval_id in k_fold.split(data):\r\n",
        "                train_df = data.loc[train_id]\r\n",
        "                eval_df = data.loc[eval_id]\r\n",
        "                self.train(train_df, eval_df, params, use_best_eval)\r\n",
        "                if self.metric == 'auc':\r\n",
        "                    y_pred = self.clf.predict(eval_df.drop(columns=[self.label]), num_iteration=self.best_round)\r\n",
        "                else:\r\n",
        "                    y_pred = (self.clf.predict(eval_df.drop(columns=[self.label]),\r\n",
        "                                               num_iteration=self.best_round) > 0.5).astype(int)\r\n",
        "                loss.append(self.get_loss(eval_df[self.label], y_pred))\r\n",
        "            return np.mean(loss)\r\n",
        "\r\n",
        "        self.opt_params = fmin(train_impl_nfold, asdict(self.opt), algo=tpe.suggest, max_evals=self.max_eval)\r\n",
        "\r\n",
        "    def train_k_fold(self, k_fold, train_data, test_data, params=None, drop_test_y=True, use_best_eval=True):\r\n",
        "        acc_result = list()\r\n",
        "        train_pred = np.empty(train_data.shape[0])\r\n",
        "        test_pred = np.empty(test_data.shape[0])\r\n",
        "        if drop_test_y:\r\n",
        "            dtest = test_data.drop(columns=self.label)\r\n",
        "        else:\r\n",
        "            dtest = test_data\r\n",
        "\r\n",
        "        models = list()\r\n",
        "        for train_id, eval_id in k_fold.split(train_data):\r\n",
        "            train_df = train_data.loc[train_id]\r\n",
        "            eval_df = train_data.loc[eval_id]\r\n",
        "            self.train(train_df, eval_df, params, use_best_eval)\r\n",
        "            models.append(copy.deepcopy(self.clf))\r\n",
        "            train_pred[eval_id] = self.clf.predict(eval_df.drop(columns=self.label), num_iteration=self.best_round)\r\n",
        "            if self.metric == 'auc':\r\n",
        "                y_pred = self.clf.predict(eval_df.drop(columns=[self.label]), num_iteration=self.best_round)\r\n",
        "            else:\r\n",
        "                y_pred = (self.clf.predict(eval_df.drop(columns=[self.label]),\r\n",
        "                                           num_iteration=self.best_round) > 0.5).astype(int)\r\n",
        "            acc_result.append(self.get_loss(eval_df[self.label], y_pred))\r\n",
        "            test_pred += self.clf.predict(dtest, num_iteration=self.best_round)\r\n",
        "        test_pred /= k_fold.n_splits\r\n",
        "        return train_pred, test_pred, acc_result, models"
      ],
      "execution_count": 71,
      "outputs": []
    },
    {
      "cell_type": "code",
      "metadata": {
        "colab": {
          "base_uri": "https://localhost:8080/"
        },
        "id": "KlxXEytEkBfs",
        "outputId": "7b41beda-739a-4065-f72f-d86946b4017f"
      },
      "source": [
        "fitter = LGBFitter(label='loan_status')\r\n",
        "kfold = KFold(n_splits=5)\r\n",
        "fitter.search_k_fold(kfold, train)\r\n",
        "\r\n",
        "fitter.opt_params"
      ],
      "execution_count": null,
      "outputs": [
        {
          "output_type": "stream",
          "text": [
            "The minimum is attained in round 59\n",
            "The minimum is attained in round 35\n",
            "The minimum is attained in round 121\n",
            "The minimum is attained in round 357\n",
            "The minimum is attained in round 96\n",
            "The minimum is attained in round 195\n",
            "The minimum is attained in round 129\n",
            "The minimum is attained in round 107\n",
            "The minimum is attained in round 652\n",
            "The minimum is attained in round 486\n",
            "The minimum is attained in round 398\n",
            "The minimum is attained in round 159\n",
            "The minimum is attained in round 62\n",
            "The minimum is attained in round 289\n",
            "The minimum is attained in round 210\n",
            "The minimum is attained in round 54\n",
            "The minimum is attained in round 37\n",
            "The minimum is attained in round 38\n",
            "The minimum is attained in round 56\n",
            "The minimum is attained in round 139\n",
            "The minimum is attained in round 49\n",
            "The minimum is attained in round 55\n",
            "The minimum is attained in round 31\n",
            "The minimum is attained in round 63\n",
            "The minimum is attained in round 23\n",
            "The minimum is attained in round 49\n",
            "The minimum is attained in round 37\n",
            "The minimum is attained in round 32\n",
            "The minimum is attained in round 75\n",
            "The minimum is attained in round 72\n",
            "The minimum is attained in round 49\n",
            "The minimum is attained in round 31\n",
            "The minimum is attained in round 34\n",
            "The minimum is attained in round 31\n",
            "The minimum is attained in round 100\n",
            "The minimum is attained in round 115\n",
            "The minimum is attained in round 78\n",
            "The minimum is attained in round 22\n",
            "The minimum is attained in round 108\n",
            "The minimum is attained in round 119\n",
            "The minimum is attained in round 52\n",
            "The minimum is attained in round 34\n",
            "The minimum is attained in round 30\n",
            "The minimum is attained in round 41\n",
            "The minimum is attained in round 51\n",
            "The minimum is attained in round 145\n",
            "The minimum is attained in round 344\n",
            "The minimum is attained in round 71\n",
            "  9%|▉         | 9/100 [15:06<1:06:59, 44.17s/it, best loss: 0.07958000000000001]"
          ],
          "name": "stdout"
        }
      ]
    },
    {
      "cell_type": "code",
      "metadata": {
        "id": "qMEoLNbqsHj9"
      },
      "source": [
        ""
      ],
      "execution_count": null,
      "outputs": []
    },
    {
      "cell_type": "markdown",
      "metadata": {
        "id": "6MtBjtwfsUbx"
      },
      "source": [
        "## EDA"
      ]
    },
    {
      "cell_type": "code",
      "metadata": {
        "id": "oJ-J4kAIsWc5"
      },
      "source": [
        "%matplotlib inline \r\n",
        "import seaborn as sns"
      ],
      "execution_count": null,
      "outputs": []
    },
    {
      "cell_type": "code",
      "metadata": {
        "id": "Q_sL0w1usZ_L"
      },
      "source": [
        "import matplotlib.pyplot as plt\r\n",
        "sns.set(style=\"white\", palette=\"muted\", color_codes=True)"
      ],
      "execution_count": null,
      "outputs": []
    },
    {
      "cell_type": "code",
      "metadata": {
        "id": "Cwonz5sushg4"
      },
      "source": [
        "onehotcol=['discrete_addr_state_1_one_hot',\r\n",
        " 'discrete_addr_state_2_one_hot',\r\n",
        " 'discrete_addr_state_3_one_hot',\r\n",
        " 'discrete_addr_state_4_one_hot',\r\n",
        " 'discrete_addr_state_5_one_hot',\r\n",
        " 'discrete_addr_state_6_one_hot',\r\n",
        " 'discrete_addr_state_7_one_hot',\r\n",
        " 'discrete_addr_state_8_one_hot',\r\n",
        " 'discrete_addr_state_9_one_hot',\r\n",
        " 'discrete_addr_state_10_one_hot',\r\n",
        " 'discrete_addr_state_11_one_hot',\r\n",
        " 'discrete_addr_state_12_one_hot',\r\n",
        " 'discrete_addr_state_13_one_hot',\r\n",
        " 'discrete_addr_state_14_one_hot',\r\n",
        " 'discrete_addr_state_15_one_hot',\r\n",
        " 'discrete_addr_state_16_one_hot',\r\n",
        " 'discrete_addr_state_17_one_hot',\r\n",
        " 'discrete_addr_state_18_one_hot',\r\n",
        " 'discrete_addr_state_19_one_hot',\r\n",
        " 'discrete_addr_state_20_one_hot',\r\n",
        " 'discrete_addr_state_21_one_hot',\r\n",
        " 'discrete_addr_state_22_one_hot',\r\n",
        " 'discrete_addr_state_23_one_hot',\r\n",
        " 'discrete_addr_state_24_one_hot',\r\n",
        " 'discrete_addr_state_25_one_hot',\r\n",
        " 'discrete_addr_state_26_one_hot',\r\n",
        " 'discrete_addr_state_27_one_hot',\r\n",
        " 'discrete_addr_state_28_one_hot',\r\n",
        " 'discrete_addr_state_29_one_hot',\r\n",
        " 'discrete_addr_state_30_one_hot',\r\n",
        " 'discrete_addr_state_31_one_hot',\r\n",
        " 'discrete_addr_state_32_one_hot',\r\n",
        " 'discrete_addr_state_33_one_hot',\r\n",
        " 'discrete_addr_state_34_one_hot',\r\n",
        " 'discrete_addr_state_35_one_hot',\r\n",
        " 'discrete_addr_state_36_one_hot',\r\n",
        " 'discrete_addr_state_37_one_hot',\r\n",
        " 'discrete_addr_state_38_one_hot',\r\n",
        " 'discrete_addr_state_39_one_hot',\r\n",
        " 'discrete_addr_state_40_one_hot',\r\n",
        " 'discrete_addr_state_41_one_hot',\r\n",
        " 'discrete_addr_state_42_one_hot',\r\n",
        " 'discrete_addr_state_43_one_hot',\r\n",
        " 'discrete_addr_state_44_one_hot',\r\n",
        " 'discrete_addr_state_45_one_hot',\r\n",
        " 'discrete_addr_state_46_one_hot',\r\n",
        " 'discrete_addr_state_47_one_hot',\r\n",
        " 'discrete_addr_state_48_one_hot',\r\n",
        " 'discrete_addr_state_49_one_hot',\r\n",
        " 'discrete_application_type_1_one_hot',\r\n",
        " 'discrete_application_type_2_one_hot',\r\n",
        " 'discrete_emp_length_1_one_hot',\r\n",
        " 'discrete_emp_length_2_one_hot',\r\n",
        " 'discrete_emp_length_3_one_hot',\r\n",
        " 'discrete_emp_length_4_one_hot',\r\n",
        " 'discrete_emp_length_5_one_hot',\r\n",
        " 'discrete_emp_length_6_one_hot',\r\n",
        " 'discrete_emp_length_7_one_hot',\r\n",
        " 'discrete_emp_length_8_one_hot',\r\n",
        " 'discrete_emp_length_9_one_hot',\r\n",
        " 'discrete_emp_length_10_one_hot',\r\n",
        " 'discrete_emp_length_11_one_hot',\r\n",
        " 'discrete_emp_length_12_one_hot',\r\n",
        " 'discrete_grade_1_one_hot',\r\n",
        " 'discrete_grade_2_one_hot',\r\n",
        " 'discrete_grade_3_one_hot',\r\n",
        " 'discrete_grade_4_one_hot',\r\n",
        " 'discrete_grade_5_one_hot',\r\n",
        " 'discrete_grade_6_one_hot',\r\n",
        " 'discrete_grade_7_one_hot',\r\n",
        " 'discrete_home_ownership_1_one_hot',\r\n",
        " 'discrete_home_ownership_2_one_hot',\r\n",
        " 'discrete_home_ownership_3_one_hot',\r\n",
        " 'discrete_home_ownership_4_one_hot',\r\n",
        " 'discrete_policy_code_1_one_hot',\r\n",
        " 'discrete_purpose_1_one_hot',\r\n",
        " 'discrete_purpose_2_one_hot',\r\n",
        " 'discrete_purpose_3_one_hot',\r\n",
        " 'discrete_purpose_4_one_hot',\r\n",
        " 'discrete_purpose_5_one_hot',\r\n",
        " 'discrete_purpose_6_one_hot',\r\n",
        " 'discrete_purpose_7_one_hot',\r\n",
        " 'discrete_purpose_8_one_hot',\r\n",
        " 'discrete_purpose_9_one_hot',\r\n",
        " 'discrete_purpose_10_one_hot',\r\n",
        " 'discrete_purpose_11_one_hot',\r\n",
        " 'discrete_purpose_12_one_hot',\r\n",
        " 'discrete_pymnt_plan_1_one_hot',\r\n",
        " 'discrete_sub_grade_1_one_hot',\r\n",
        " 'discrete_sub_grade_2_one_hot',\r\n",
        " 'discrete_sub_grade_3_one_hot',\r\n",
        " 'discrete_sub_grade_4_one_hot',\r\n",
        " 'discrete_sub_grade_5_one_hot',\r\n",
        " 'discrete_sub_grade_6_one_hot',\r\n",
        " 'discrete_sub_grade_7_one_hot',\r\n",
        " 'discrete_sub_grade_8_one_hot',\r\n",
        " 'discrete_sub_grade_9_one_hot',\r\n",
        " 'discrete_sub_grade_10_one_hot',\r\n",
        " 'discrete_sub_grade_11_one_hot',\r\n",
        " 'discrete_sub_grade_12_one_hot',\r\n",
        " 'discrete_sub_grade_13_one_hot',\r\n",
        " 'discrete_sub_grade_14_one_hot',\r\n",
        " 'discrete_sub_grade_15_one_hot',\r\n",
        " 'discrete_sub_grade_16_one_hot',\r\n",
        " 'discrete_sub_grade_17_one_hot',\r\n",
        " 'discrete_sub_grade_18_one_hot',\r\n",
        " 'discrete_sub_grade_19_one_hot',\r\n",
        " 'discrete_sub_grade_20_one_hot',\r\n",
        " 'discrete_sub_grade_21_one_hot',\r\n",
        " 'discrete_sub_grade_22_one_hot',\r\n",
        " 'discrete_sub_grade_23_one_hot',\r\n",
        " 'discrete_sub_grade_24_one_hot',\r\n",
        " 'discrete_sub_grade_25_one_hot',\r\n",
        " 'discrete_sub_grade_26_one_hot',\r\n",
        " 'discrete_sub_grade_27_one_hot',\r\n",
        " 'discrete_sub_grade_28_one_hot',\r\n",
        " 'discrete_sub_grade_29_one_hot',\r\n",
        " 'discrete_sub_grade_30_one_hot',\r\n",
        " 'discrete_sub_grade_31_one_hot',\r\n",
        " 'discrete_sub_grade_32_one_hot',\r\n",
        " 'discrete_sub_grade_33_one_hot',\r\n",
        " 'discrete_sub_grade_34_one_hot',\r\n",
        " 'discrete_sub_grade_35_one_hot',\r\n",
        " 'discrete_term_1_one_hot',\r\n",
        " 'discrete_term_2_one_hot']"
      ],
      "execution_count": null,
      "outputs": []
    },
    {
      "cell_type": "code",
      "metadata": {
        "id": "N3-4M1LRtBSd"
      },
      "source": [
        "an_train=train.copy()\r\n",
        "an_train=an_train.drop(onehotcol, axis=1)"
      ],
      "execution_count": null,
      "outputs": []
    },
    {
      "cell_type": "code",
      "metadata": {
        "id": "B1UnsjyrtCvN"
      },
      "source": [
        "an_test=test.copy()\r\n",
        "an_test=an_test.drop(onehotcol, axis=1)"
      ],
      "execution_count": null,
      "outputs": []
    },
    {
      "cell_type": "code",
      "metadata": {
        "id": "lRGbezgntLHM"
      },
      "source": [
        "an_train.head(5)"
      ],
      "execution_count": null,
      "outputs": []
    },
    {
      "cell_type": "code",
      "metadata": {
        "id": "itEHxLPctN-i"
      },
      "source": [
        "an_train.describe()"
      ],
      "execution_count": null,
      "outputs": []
    },
    {
      "cell_type": "code",
      "metadata": {
        "id": "Ta4y8EZhtTOO"
      },
      "source": [
        "ax1=sns.kdeplot(an_train['continuous_mths_since_last_delinq'][an_train['loan_status']==1],color='r')\r\n",
        "ax2=sns.kdeplot(an_train['continuous_mths_since_last_delinq'][an_train['loan_status']==0],color='b')"
      ],
      "execution_count": null,
      "outputs": []
    },
    {
      "cell_type": "code",
      "metadata": {
        "id": "86hhHJewtXDM"
      },
      "source": [
        "plt.figure(figsize=(21,21))\r\n",
        "sns.heatmap(round(an_train.corr(),2), cmap='Blues', annot=True)\r\n",
        "plt.show()"
      ],
      "execution_count": null,
      "outputs": []
    },
    {
      "cell_type": "markdown",
      "metadata": {
        "id": "66DrPRc8uXFj"
      },
      "source": [
        "### Add Param"
      ]
    },
    {
      "cell_type": "code",
      "metadata": {
        "id": "WeRaDHUPtg4C"
      },
      "source": [
        "train1=train.copy()\r\n",
        "\r\n",
        "train1['continuous_last_fico_range']=train1['continuous_fico_range_high']-train1['continuous_last_fico_range_high']\r\n",
        "\r\n",
        "test1=test.copy()\r\n",
        "\r\n",
        "test1['continuous_last_fico_range']=test1['continuous_fico_range_high']-test1['continuous_last_fico_range_high']"
      ],
      "execution_count": null,
      "outputs": []
    },
    {
      "cell_type": "code",
      "metadata": {
        "id": "HCrjSUmmuapT"
      },
      "source": [
        "train2=train.copy()\r\n",
        "\r\n",
        "train2['continuous_last_fico_range']=train2['continuous_fico_range_high']-train2['continuous_last_fico_range_high']\r\n",
        "\r\n",
        "train2['continuous_last_fico_rangel']=train2['continuous_fico_range_low']-train2['continuous_last_fico_range_low']\r\n",
        "test2=test.copy()\r\n",
        "\r\n",
        "test2['continuous_last_fico_range']=test2['continuous_fico_range_high']-test2['continuous_last_fico_range_high']\r\n",
        "test2['continuous_last_fico_rangel']=test2['continuous_fico_range_low']-test2['continuous_last_fico_range_low']"
      ],
      "execution_count": null,
      "outputs": []
    },
    {
      "cell_type": "code",
      "metadata": {
        "id": "dOg0GEZ1ueTi"
      },
      "source": [
        "ax1=sns.kdeplot(train1['continuous_last_fico_range'][train1['loan_status']==1],color='r')\r\n",
        "ax2=sns.kdeplot(train1['continuous_last_fico_range'][train1['loan_status']==0],color='b')"
      ],
      "execution_count": null,
      "outputs": []
    },
    {
      "cell_type": "markdown",
      "metadata": {
        "id": "tJKsFCngulfb"
      },
      "source": [
        "### After"
      ]
    },
    {
      "cell_type": "code",
      "metadata": {
        "id": "b6hSU0DzuoL-"
      },
      "source": [
        "train_pred, test_pred, acc_result, models = fitter.train_k_fold(kfold, train1, test1, params = params)"
      ],
      "execution_count": null,
      "outputs": []
    },
    {
      "cell_type": "code",
      "metadata": {
        "id": "mJbqFPmFuw86"
      },
      "source": [
        "train_pred2, test_pred2, acc_result2, models2 = fitter.train_k_fold(kfold, train2, test2, params = params)"
      ],
      "execution_count": null,
      "outputs": []
    },
    {
      "cell_type": "code",
      "metadata": {
        "id": "yuwEvECUu2td"
      },
      "source": [
        "acc_result"
      ],
      "execution_count": null,
      "outputs": []
    },
    {
      "cell_type": "code",
      "metadata": {
        "id": "rhPJx36Fu5yZ"
      },
      "source": [
        "basepre=pd.DataFrame((test_pred1 > 0.5).astype(int))\r\n",
        "base_acc_count=0\r\n",
        "for i in range(len(pre)):\r\n",
        "  if basepre[0][i] == test['loan_status'][i]:\r\n",
        "    base_acc_count += 1\r\n",
        "resbase=base_acc_count/len(basepre)*1.0\r\n",
        "print(resbase)"
      ],
      "execution_count": null,
      "outputs": []
    },
    {
      "cell_type": "code",
      "metadata": {
        "id": "O3A5DaBau6SU"
      },
      "source": [
        "pre = pd.DataFrame((test_pred > 0.5).astype(int))\r\n",
        "acc_count=0\r\n",
        "for i in range(len(pre)):\r\n",
        "  if pre[0][i] == test1['loan_status'][i]:\r\n",
        "    acc_count += 1\r\n",
        "res1=acc_count/len(pre)*1.0\r\n",
        "print(res1)"
      ],
      "execution_count": null,
      "outputs": []
    },
    {
      "cell_type": "code",
      "metadata": {
        "id": "OP9R6sZhu_LI"
      },
      "source": [
        "pre2 = pd.DataFrame((test_pred2 > 0.5).astype(int))\r\n",
        "acc_count2=0\r\n",
        "for i in range(len(pre2)):\r\n",
        "  if pre[0][i] == test2['loan_status'][i]:\r\n",
        "    acc_count2 += 1\r\n",
        "res2=acc_count2/len(pre2)*1.0\r\n",
        "print(res2)"
      ],
      "execution_count": null,
      "outputs": []
    },
    {
      "cell_type": "code",
      "metadata": {
        "id": "lemlfK96vCB0"
      },
      "source": [
        "res2-resbase"
      ],
      "execution_count": null,
      "outputs": []
    },
    {
      "cell_type": "code",
      "metadata": {
        "id": "4PHW_bp_vDcP"
      },
      "source": [
        "res1-resbase"
      ],
      "execution_count": null,
      "outputs": []
    }
  ]
}