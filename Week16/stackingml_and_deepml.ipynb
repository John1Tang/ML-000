{
  "nbformat": 4,
  "nbformat_minor": 0,
  "metadata": {
    "colab": {
      "name": "stackingml_and_deepml.ipynb",
      "provenance": [],
      "machine_shape": "hm",
      "authorship_tag": "ABX9TyPFD+umFs7+KC/Ws6s07RYH",
      "include_colab_link": true
    },
    "kernelspec": {
      "name": "python3",
      "display_name": "Python 3"
    },
    "language_info": {
      "name": "python"
    },
    "accelerator": "GPU"
  },
  "cells": [
    {
      "cell_type": "markdown",
      "metadata": {
        "id": "view-in-github",
        "colab_type": "text"
      },
      "source": [
        "<a href=\"https://colab.research.google.com/github/John1Tang/ML-000/blob/main/Week16/stackingml_and_deepml.ipynb\" target=\"_parent\"><img src=\"https://colab.research.google.com/assets/colab-badge.svg\" alt=\"Open In Colab\"/></a>"
      ]
    },
    {
      "cell_type": "markdown",
      "metadata": {
        "id": "oA9jxRT-6XcG"
      },
      "source": [
        "### Load data and data preprocessing"
      ]
    },
    {
      "cell_type": "code",
      "metadata": {
        "id": "s3TkVcuRuWo2"
      },
      "source": [
        "import lightgbm as lgb\n",
        "import numpy as np\n",
        "import pandas as pd\n",
        "from sklearn.model_selection import KFold\n",
        "from sklearn.metrics import accuracy_score"
      ],
      "execution_count": null,
      "outputs": []
    },
    {
      "cell_type": "code",
      "metadata": {
        "colab": {
          "base_uri": "https://localhost:8080/"
        },
        "id": "DzV68swO6V1X",
        "outputId": "fbe46880-dff7-4eff-be43-53f535cb382d"
      },
      "source": [
        "from google.colab import drive\n",
        "drive.mount('/content/drive')\n",
        "\n",
        "seed = 42 # for the same data division\n",
        "\n",
        "kf = KFold(n_splits=5, random_state=seed,shuffle=True)\n",
        "df_train = pd.read_csv('/content/drive/MyDrive/final/train_final.csv')\n",
        "df_test = pd.read_csv('/content/drive/MyDrive/final/test_final.csv')"
      ],
      "execution_count": null,
      "outputs": [
        {
          "output_type": "stream",
          "text": [
            "Mounted at /content/drive\n"
          ],
          "name": "stdout"
        }
      ]
    },
    {
      "cell_type": "code",
      "metadata": {
        "colab": {
          "base_uri": "https://localhost:8080/"
        },
        "id": "5jUly6Gf66x8",
        "outputId": "d80c1206-58b2-49c7-bd03-ed2821175d8c"
      },
      "source": [
        "X_train.shape, Y_train.shape"
      ],
      "execution_count": null,
      "outputs": [
        {
          "output_type": "execute_result",
          "data": {
            "text/plain": [
              "((50000, 145), (50000,))"
            ]
          },
          "metadata": {
            "tags": []
          },
          "execution_count": 3
        }
      ]
    },
    {
      "cell_type": "code",
      "metadata": {
        "id": "b2EPTdMQDAUU"
      },
      "source": [
        "train_clean = df_train.copy()\n",
        "test_clean = df_test.copy()\n",
        "\n",
        "train_clean.fillna(0,inplace=True)\n",
        "test_clean.fillna(0,inplace=True)\n",
        "\n",
        "X_train = train_clean.drop(columns=['loan_status']).values\n",
        "Y_train = train_clean['loan_status'].values.astype(int)\n",
        "X_test = test_clean.drop(columns=['loan_status']).values\n",
        "Y_test = test_clean['loan_status'].values.astype(int)"
      ],
      "execution_count": null,
      "outputs": []
    },
    {
      "cell_type": "code",
      "metadata": {
        "id": "ZlJDmTVp689L"
      },
      "source": [
        "# split data for five fold\n",
        "\n",
        "five_fold_data = []\n",
        "\n",
        "for train_index, eval_index in kf.split(X_train):\n",
        "  x_train, x_eval = X_train[train_index], X_train[eval_index]\n",
        "  y_train, y_eval = Y_train[train_index], Y_train[eval_index]\n",
        "  \n",
        "  five_fold_data.append([(x_train, y_train), (x_eval, y_eval)])"
      ],
      "execution_count": null,
      "outputs": []
    },
    {
      "cell_type": "markdown",
      "metadata": {
        "id": "HU56UVup6NX3"
      },
      "source": [
        "### EDA"
      ]
    },
    {
      "cell_type": "code",
      "metadata": {
        "colab": {
          "base_uri": "https://localhost:8080/",
          "height": 253
        },
        "id": "u8QrtXao6RzR",
        "outputId": "5ad1ca46-a4be-4bc1-8b32-8059bd01988c"
      },
      "source": [
        "df_train.head()"
      ],
      "execution_count": null,
      "outputs": [
        {
          "output_type": "execute_result",
          "data": {
            "text/html": [
              "<div>\n",
              "<style scoped>\n",
              "    .dataframe tbody tr th:only-of-type {\n",
              "        vertical-align: middle;\n",
              "    }\n",
              "\n",
              "    .dataframe tbody tr th {\n",
              "        vertical-align: top;\n",
              "    }\n",
              "\n",
              "    .dataframe thead th {\n",
              "        text-align: right;\n",
              "    }\n",
              "</style>\n",
              "<table border=\"1\" class=\"dataframe\">\n",
              "  <thead>\n",
              "    <tr style=\"text-align: right;\">\n",
              "      <th></th>\n",
              "      <th>continuous_annual_inc</th>\n",
              "      <th>continuous_annual_inc_joint</th>\n",
              "      <th>continuous_delinq_2yrs</th>\n",
              "      <th>continuous_dti</th>\n",
              "      <th>continuous_dti_joint</th>\n",
              "      <th>continuous_fico_range_high</th>\n",
              "      <th>continuous_fico_range_low</th>\n",
              "      <th>continuous_funded_amnt</th>\n",
              "      <th>continuous_funded_amnt_inv</th>\n",
              "      <th>continuous_inq_last_6mths</th>\n",
              "      <th>continuous_installment</th>\n",
              "      <th>continuous_int_rate</th>\n",
              "      <th>continuous_last_fico_range_high</th>\n",
              "      <th>continuous_last_fico_range_low</th>\n",
              "      <th>continuous_loan_amnt</th>\n",
              "      <th>loan_status</th>\n",
              "      <th>continuous_mths_since_last_delinq</th>\n",
              "      <th>continuous_mths_since_last_major_derog</th>\n",
              "      <th>continuous_mths_since_last_record</th>\n",
              "      <th>continuous_open_acc</th>\n",
              "      <th>continuous_pub_rec</th>\n",
              "      <th>discrete_addr_state_1_one_hot</th>\n",
              "      <th>discrete_addr_state_2_one_hot</th>\n",
              "      <th>discrete_addr_state_3_one_hot</th>\n",
              "      <th>discrete_addr_state_4_one_hot</th>\n",
              "      <th>discrete_addr_state_5_one_hot</th>\n",
              "      <th>discrete_addr_state_6_one_hot</th>\n",
              "      <th>discrete_addr_state_7_one_hot</th>\n",
              "      <th>discrete_addr_state_8_one_hot</th>\n",
              "      <th>discrete_addr_state_9_one_hot</th>\n",
              "      <th>discrete_addr_state_10_one_hot</th>\n",
              "      <th>discrete_addr_state_11_one_hot</th>\n",
              "      <th>discrete_addr_state_12_one_hot</th>\n",
              "      <th>discrete_addr_state_13_one_hot</th>\n",
              "      <th>discrete_addr_state_14_one_hot</th>\n",
              "      <th>discrete_addr_state_15_one_hot</th>\n",
              "      <th>discrete_addr_state_16_one_hot</th>\n",
              "      <th>discrete_addr_state_17_one_hot</th>\n",
              "      <th>discrete_addr_state_18_one_hot</th>\n",
              "      <th>discrete_addr_state_19_one_hot</th>\n",
              "      <th>...</th>\n",
              "      <th>discrete_purpose_11_one_hot</th>\n",
              "      <th>discrete_purpose_12_one_hot</th>\n",
              "      <th>discrete_pymnt_plan_1_one_hot</th>\n",
              "      <th>discrete_sub_grade_1_one_hot</th>\n",
              "      <th>discrete_sub_grade_2_one_hot</th>\n",
              "      <th>discrete_sub_grade_3_one_hot</th>\n",
              "      <th>discrete_sub_grade_4_one_hot</th>\n",
              "      <th>discrete_sub_grade_5_one_hot</th>\n",
              "      <th>discrete_sub_grade_6_one_hot</th>\n",
              "      <th>discrete_sub_grade_7_one_hot</th>\n",
              "      <th>discrete_sub_grade_8_one_hot</th>\n",
              "      <th>discrete_sub_grade_9_one_hot</th>\n",
              "      <th>discrete_sub_grade_10_one_hot</th>\n",
              "      <th>discrete_sub_grade_11_one_hot</th>\n",
              "      <th>discrete_sub_grade_12_one_hot</th>\n",
              "      <th>discrete_sub_grade_13_one_hot</th>\n",
              "      <th>discrete_sub_grade_14_one_hot</th>\n",
              "      <th>discrete_sub_grade_15_one_hot</th>\n",
              "      <th>discrete_sub_grade_16_one_hot</th>\n",
              "      <th>discrete_sub_grade_17_one_hot</th>\n",
              "      <th>discrete_sub_grade_18_one_hot</th>\n",
              "      <th>discrete_sub_grade_19_one_hot</th>\n",
              "      <th>discrete_sub_grade_20_one_hot</th>\n",
              "      <th>discrete_sub_grade_21_one_hot</th>\n",
              "      <th>discrete_sub_grade_22_one_hot</th>\n",
              "      <th>discrete_sub_grade_23_one_hot</th>\n",
              "      <th>discrete_sub_grade_24_one_hot</th>\n",
              "      <th>discrete_sub_grade_25_one_hot</th>\n",
              "      <th>discrete_sub_grade_26_one_hot</th>\n",
              "      <th>discrete_sub_grade_27_one_hot</th>\n",
              "      <th>discrete_sub_grade_28_one_hot</th>\n",
              "      <th>discrete_sub_grade_29_one_hot</th>\n",
              "      <th>discrete_sub_grade_30_one_hot</th>\n",
              "      <th>discrete_sub_grade_31_one_hot</th>\n",
              "      <th>discrete_sub_grade_32_one_hot</th>\n",
              "      <th>discrete_sub_grade_33_one_hot</th>\n",
              "      <th>discrete_sub_grade_34_one_hot</th>\n",
              "      <th>discrete_sub_grade_35_one_hot</th>\n",
              "      <th>discrete_term_1_one_hot</th>\n",
              "      <th>discrete_term_2_one_hot</th>\n",
              "    </tr>\n",
              "  </thead>\n",
              "  <tbody>\n",
              "    <tr>\n",
              "      <th>0</th>\n",
              "      <td>55000.0</td>\n",
              "      <td>NaN</td>\n",
              "      <td>0.0</td>\n",
              "      <td>5.91</td>\n",
              "      <td>NaN</td>\n",
              "      <td>679.0</td>\n",
              "      <td>675.0</td>\n",
              "      <td>3600.0</td>\n",
              "      <td>3600.0</td>\n",
              "      <td>1.0</td>\n",
              "      <td>123.03</td>\n",
              "      <td>13.99</td>\n",
              "      <td>564.0</td>\n",
              "      <td>560.0</td>\n",
              "      <td>3600.0</td>\n",
              "      <td>1</td>\n",
              "      <td>30.0</td>\n",
              "      <td>30.0</td>\n",
              "      <td>NaN</td>\n",
              "      <td>7.0</td>\n",
              "      <td>0.0</td>\n",
              "      <td>1</td>\n",
              "      <td>0</td>\n",
              "      <td>0</td>\n",
              "      <td>0</td>\n",
              "      <td>0</td>\n",
              "      <td>0</td>\n",
              "      <td>0</td>\n",
              "      <td>0</td>\n",
              "      <td>0</td>\n",
              "      <td>0</td>\n",
              "      <td>0</td>\n",
              "      <td>0</td>\n",
              "      <td>0</td>\n",
              "      <td>0</td>\n",
              "      <td>0</td>\n",
              "      <td>0</td>\n",
              "      <td>0</td>\n",
              "      <td>0</td>\n",
              "      <td>0</td>\n",
              "      <td>...</td>\n",
              "      <td>0</td>\n",
              "      <td>0</td>\n",
              "      <td>1</td>\n",
              "      <td>1</td>\n",
              "      <td>0</td>\n",
              "      <td>0</td>\n",
              "      <td>0</td>\n",
              "      <td>0</td>\n",
              "      <td>0</td>\n",
              "      <td>0</td>\n",
              "      <td>0</td>\n",
              "      <td>0</td>\n",
              "      <td>0</td>\n",
              "      <td>0</td>\n",
              "      <td>0</td>\n",
              "      <td>0</td>\n",
              "      <td>0</td>\n",
              "      <td>0</td>\n",
              "      <td>0</td>\n",
              "      <td>0</td>\n",
              "      <td>0</td>\n",
              "      <td>0</td>\n",
              "      <td>0</td>\n",
              "      <td>0</td>\n",
              "      <td>0</td>\n",
              "      <td>0</td>\n",
              "      <td>0</td>\n",
              "      <td>0</td>\n",
              "      <td>0</td>\n",
              "      <td>0</td>\n",
              "      <td>0</td>\n",
              "      <td>0</td>\n",
              "      <td>0</td>\n",
              "      <td>0</td>\n",
              "      <td>0</td>\n",
              "      <td>0</td>\n",
              "      <td>0</td>\n",
              "      <td>0</td>\n",
              "      <td>1</td>\n",
              "      <td>0</td>\n",
              "    </tr>\n",
              "    <tr>\n",
              "      <th>1</th>\n",
              "      <td>65000.0</td>\n",
              "      <td>NaN</td>\n",
              "      <td>1.0</td>\n",
              "      <td>16.06</td>\n",
              "      <td>NaN</td>\n",
              "      <td>719.0</td>\n",
              "      <td>715.0</td>\n",
              "      <td>24700.0</td>\n",
              "      <td>24700.0</td>\n",
              "      <td>4.0</td>\n",
              "      <td>820.28</td>\n",
              "      <td>11.99</td>\n",
              "      <td>699.0</td>\n",
              "      <td>695.0</td>\n",
              "      <td>24700.0</td>\n",
              "      <td>1</td>\n",
              "      <td>6.0</td>\n",
              "      <td>NaN</td>\n",
              "      <td>NaN</td>\n",
              "      <td>22.0</td>\n",
              "      <td>0.0</td>\n",
              "      <td>0</td>\n",
              "      <td>1</td>\n",
              "      <td>0</td>\n",
              "      <td>0</td>\n",
              "      <td>0</td>\n",
              "      <td>0</td>\n",
              "      <td>0</td>\n",
              "      <td>0</td>\n",
              "      <td>0</td>\n",
              "      <td>0</td>\n",
              "      <td>0</td>\n",
              "      <td>0</td>\n",
              "      <td>0</td>\n",
              "      <td>0</td>\n",
              "      <td>0</td>\n",
              "      <td>0</td>\n",
              "      <td>0</td>\n",
              "      <td>0</td>\n",
              "      <td>0</td>\n",
              "      <td>...</td>\n",
              "      <td>0</td>\n",
              "      <td>0</td>\n",
              "      <td>1</td>\n",
              "      <td>0</td>\n",
              "      <td>1</td>\n",
              "      <td>0</td>\n",
              "      <td>0</td>\n",
              "      <td>0</td>\n",
              "      <td>0</td>\n",
              "      <td>0</td>\n",
              "      <td>0</td>\n",
              "      <td>0</td>\n",
              "      <td>0</td>\n",
              "      <td>0</td>\n",
              "      <td>0</td>\n",
              "      <td>0</td>\n",
              "      <td>0</td>\n",
              "      <td>0</td>\n",
              "      <td>0</td>\n",
              "      <td>0</td>\n",
              "      <td>0</td>\n",
              "      <td>0</td>\n",
              "      <td>0</td>\n",
              "      <td>0</td>\n",
              "      <td>0</td>\n",
              "      <td>0</td>\n",
              "      <td>0</td>\n",
              "      <td>0</td>\n",
              "      <td>0</td>\n",
              "      <td>0</td>\n",
              "      <td>0</td>\n",
              "      <td>0</td>\n",
              "      <td>0</td>\n",
              "      <td>0</td>\n",
              "      <td>0</td>\n",
              "      <td>0</td>\n",
              "      <td>0</td>\n",
              "      <td>0</td>\n",
              "      <td>1</td>\n",
              "      <td>0</td>\n",
              "    </tr>\n",
              "    <tr>\n",
              "      <th>2</th>\n",
              "      <td>63000.0</td>\n",
              "      <td>71000.0</td>\n",
              "      <td>0.0</td>\n",
              "      <td>10.78</td>\n",
              "      <td>13.85</td>\n",
              "      <td>699.0</td>\n",
              "      <td>695.0</td>\n",
              "      <td>20000.0</td>\n",
              "      <td>20000.0</td>\n",
              "      <td>0.0</td>\n",
              "      <td>432.66</td>\n",
              "      <td>10.78</td>\n",
              "      <td>704.0</td>\n",
              "      <td>700.0</td>\n",
              "      <td>20000.0</td>\n",
              "      <td>1</td>\n",
              "      <td>NaN</td>\n",
              "      <td>NaN</td>\n",
              "      <td>NaN</td>\n",
              "      <td>6.0</td>\n",
              "      <td>0.0</td>\n",
              "      <td>0</td>\n",
              "      <td>0</td>\n",
              "      <td>1</td>\n",
              "      <td>0</td>\n",
              "      <td>0</td>\n",
              "      <td>0</td>\n",
              "      <td>0</td>\n",
              "      <td>0</td>\n",
              "      <td>0</td>\n",
              "      <td>0</td>\n",
              "      <td>0</td>\n",
              "      <td>0</td>\n",
              "      <td>0</td>\n",
              "      <td>0</td>\n",
              "      <td>0</td>\n",
              "      <td>0</td>\n",
              "      <td>0</td>\n",
              "      <td>0</td>\n",
              "      <td>0</td>\n",
              "      <td>...</td>\n",
              "      <td>0</td>\n",
              "      <td>0</td>\n",
              "      <td>1</td>\n",
              "      <td>0</td>\n",
              "      <td>0</td>\n",
              "      <td>1</td>\n",
              "      <td>0</td>\n",
              "      <td>0</td>\n",
              "      <td>0</td>\n",
              "      <td>0</td>\n",
              "      <td>0</td>\n",
              "      <td>0</td>\n",
              "      <td>0</td>\n",
              "      <td>0</td>\n",
              "      <td>0</td>\n",
              "      <td>0</td>\n",
              "      <td>0</td>\n",
              "      <td>0</td>\n",
              "      <td>0</td>\n",
              "      <td>0</td>\n",
              "      <td>0</td>\n",
              "      <td>0</td>\n",
              "      <td>0</td>\n",
              "      <td>0</td>\n",
              "      <td>0</td>\n",
              "      <td>0</td>\n",
              "      <td>0</td>\n",
              "      <td>0</td>\n",
              "      <td>0</td>\n",
              "      <td>0</td>\n",
              "      <td>0</td>\n",
              "      <td>0</td>\n",
              "      <td>0</td>\n",
              "      <td>0</td>\n",
              "      <td>0</td>\n",
              "      <td>0</td>\n",
              "      <td>0</td>\n",
              "      <td>0</td>\n",
              "      <td>0</td>\n",
              "      <td>1</td>\n",
              "    </tr>\n",
              "    <tr>\n",
              "      <th>3</th>\n",
              "      <td>104433.0</td>\n",
              "      <td>NaN</td>\n",
              "      <td>1.0</td>\n",
              "      <td>25.37</td>\n",
              "      <td>NaN</td>\n",
              "      <td>699.0</td>\n",
              "      <td>695.0</td>\n",
              "      <td>10400.0</td>\n",
              "      <td>10400.0</td>\n",
              "      <td>3.0</td>\n",
              "      <td>289.91</td>\n",
              "      <td>22.45</td>\n",
              "      <td>704.0</td>\n",
              "      <td>700.0</td>\n",
              "      <td>10400.0</td>\n",
              "      <td>1</td>\n",
              "      <td>12.0</td>\n",
              "      <td>NaN</td>\n",
              "      <td>NaN</td>\n",
              "      <td>12.0</td>\n",
              "      <td>0.0</td>\n",
              "      <td>1</td>\n",
              "      <td>0</td>\n",
              "      <td>0</td>\n",
              "      <td>0</td>\n",
              "      <td>0</td>\n",
              "      <td>0</td>\n",
              "      <td>0</td>\n",
              "      <td>0</td>\n",
              "      <td>0</td>\n",
              "      <td>0</td>\n",
              "      <td>0</td>\n",
              "      <td>0</td>\n",
              "      <td>0</td>\n",
              "      <td>0</td>\n",
              "      <td>0</td>\n",
              "      <td>0</td>\n",
              "      <td>0</td>\n",
              "      <td>0</td>\n",
              "      <td>0</td>\n",
              "      <td>...</td>\n",
              "      <td>0</td>\n",
              "      <td>0</td>\n",
              "      <td>1</td>\n",
              "      <td>0</td>\n",
              "      <td>0</td>\n",
              "      <td>0</td>\n",
              "      <td>1</td>\n",
              "      <td>0</td>\n",
              "      <td>0</td>\n",
              "      <td>0</td>\n",
              "      <td>0</td>\n",
              "      <td>0</td>\n",
              "      <td>0</td>\n",
              "      <td>0</td>\n",
              "      <td>0</td>\n",
              "      <td>0</td>\n",
              "      <td>0</td>\n",
              "      <td>0</td>\n",
              "      <td>0</td>\n",
              "      <td>0</td>\n",
              "      <td>0</td>\n",
              "      <td>0</td>\n",
              "      <td>0</td>\n",
              "      <td>0</td>\n",
              "      <td>0</td>\n",
              "      <td>0</td>\n",
              "      <td>0</td>\n",
              "      <td>0</td>\n",
              "      <td>0</td>\n",
              "      <td>0</td>\n",
              "      <td>0</td>\n",
              "      <td>0</td>\n",
              "      <td>0</td>\n",
              "      <td>0</td>\n",
              "      <td>0</td>\n",
              "      <td>0</td>\n",
              "      <td>0</td>\n",
              "      <td>0</td>\n",
              "      <td>0</td>\n",
              "      <td>1</td>\n",
              "    </tr>\n",
              "    <tr>\n",
              "      <th>4</th>\n",
              "      <td>34000.0</td>\n",
              "      <td>NaN</td>\n",
              "      <td>0.0</td>\n",
              "      <td>10.20</td>\n",
              "      <td>NaN</td>\n",
              "      <td>694.0</td>\n",
              "      <td>690.0</td>\n",
              "      <td>11950.0</td>\n",
              "      <td>11950.0</td>\n",
              "      <td>0.0</td>\n",
              "      <td>405.18</td>\n",
              "      <td>13.44</td>\n",
              "      <td>759.0</td>\n",
              "      <td>755.0</td>\n",
              "      <td>11950.0</td>\n",
              "      <td>1</td>\n",
              "      <td>NaN</td>\n",
              "      <td>NaN</td>\n",
              "      <td>NaN</td>\n",
              "      <td>5.0</td>\n",
              "      <td>0.0</td>\n",
              "      <td>0</td>\n",
              "      <td>0</td>\n",
              "      <td>0</td>\n",
              "      <td>1</td>\n",
              "      <td>0</td>\n",
              "      <td>0</td>\n",
              "      <td>0</td>\n",
              "      <td>0</td>\n",
              "      <td>0</td>\n",
              "      <td>0</td>\n",
              "      <td>0</td>\n",
              "      <td>0</td>\n",
              "      <td>0</td>\n",
              "      <td>0</td>\n",
              "      <td>0</td>\n",
              "      <td>0</td>\n",
              "      <td>0</td>\n",
              "      <td>0</td>\n",
              "      <td>0</td>\n",
              "      <td>...</td>\n",
              "      <td>0</td>\n",
              "      <td>0</td>\n",
              "      <td>1</td>\n",
              "      <td>0</td>\n",
              "      <td>0</td>\n",
              "      <td>0</td>\n",
              "      <td>0</td>\n",
              "      <td>1</td>\n",
              "      <td>0</td>\n",
              "      <td>0</td>\n",
              "      <td>0</td>\n",
              "      <td>0</td>\n",
              "      <td>0</td>\n",
              "      <td>0</td>\n",
              "      <td>0</td>\n",
              "      <td>0</td>\n",
              "      <td>0</td>\n",
              "      <td>0</td>\n",
              "      <td>0</td>\n",
              "      <td>0</td>\n",
              "      <td>0</td>\n",
              "      <td>0</td>\n",
              "      <td>0</td>\n",
              "      <td>0</td>\n",
              "      <td>0</td>\n",
              "      <td>0</td>\n",
              "      <td>0</td>\n",
              "      <td>0</td>\n",
              "      <td>0</td>\n",
              "      <td>0</td>\n",
              "      <td>0</td>\n",
              "      <td>0</td>\n",
              "      <td>0</td>\n",
              "      <td>0</td>\n",
              "      <td>0</td>\n",
              "      <td>0</td>\n",
              "      <td>0</td>\n",
              "      <td>0</td>\n",
              "      <td>1</td>\n",
              "      <td>0</td>\n",
              "    </tr>\n",
              "  </tbody>\n",
              "</table>\n",
              "<p>5 rows × 146 columns</p>\n",
              "</div>"
            ],
            "text/plain": [
              "   continuous_annual_inc  ...  discrete_term_2_one_hot\n",
              "0                55000.0  ...                        0\n",
              "1                65000.0  ...                        0\n",
              "2                63000.0  ...                        1\n",
              "3               104433.0  ...                        1\n",
              "4                34000.0  ...                        0\n",
              "\n",
              "[5 rows x 146 columns]"
            ]
          },
          "metadata": {
            "tags": []
          },
          "execution_count": 14
        }
      ]
    },
    {
      "cell_type": "code",
      "metadata": {
        "colab": {
          "base_uri": "https://localhost:8080/"
        },
        "id": "ZMaYoK7Q-aH-",
        "outputId": "3847d668-cf23-4d4f-f9b6-f71625acf5b7"
      },
      "source": [
        "df_train.columns.values"
      ],
      "execution_count": null,
      "outputs": [
        {
          "output_type": "execute_result",
          "data": {
            "text/plain": [
              "array(['continuous_annual_inc', 'continuous_annual_inc_joint',\n",
              "       'continuous_delinq_2yrs', 'continuous_dti', 'continuous_dti_joint',\n",
              "       'continuous_fico_range_high', 'continuous_fico_range_low',\n",
              "       'continuous_funded_amnt', 'continuous_funded_amnt_inv',\n",
              "       'continuous_inq_last_6mths', 'continuous_installment',\n",
              "       'continuous_int_rate', 'continuous_last_fico_range_high',\n",
              "       'continuous_last_fico_range_low', 'continuous_loan_amnt',\n",
              "       'loan_status', 'continuous_mths_since_last_delinq',\n",
              "       'continuous_mths_since_last_major_derog',\n",
              "       'continuous_mths_since_last_record', 'continuous_open_acc',\n",
              "       'continuous_pub_rec', 'discrete_addr_state_1_one_hot',\n",
              "       'discrete_addr_state_2_one_hot', 'discrete_addr_state_3_one_hot',\n",
              "       'discrete_addr_state_4_one_hot', 'discrete_addr_state_5_one_hot',\n",
              "       'discrete_addr_state_6_one_hot', 'discrete_addr_state_7_one_hot',\n",
              "       'discrete_addr_state_8_one_hot', 'discrete_addr_state_9_one_hot',\n",
              "       'discrete_addr_state_10_one_hot', 'discrete_addr_state_11_one_hot',\n",
              "       'discrete_addr_state_12_one_hot', 'discrete_addr_state_13_one_hot',\n",
              "       'discrete_addr_state_14_one_hot', 'discrete_addr_state_15_one_hot',\n",
              "       'discrete_addr_state_16_one_hot', 'discrete_addr_state_17_one_hot',\n",
              "       'discrete_addr_state_18_one_hot', 'discrete_addr_state_19_one_hot',\n",
              "       'discrete_addr_state_20_one_hot', 'discrete_addr_state_21_one_hot',\n",
              "       'discrete_addr_state_22_one_hot', 'discrete_addr_state_23_one_hot',\n",
              "       'discrete_addr_state_24_one_hot', 'discrete_addr_state_25_one_hot',\n",
              "       'discrete_addr_state_26_one_hot', 'discrete_addr_state_27_one_hot',\n",
              "       'discrete_addr_state_28_one_hot', 'discrete_addr_state_29_one_hot',\n",
              "       'discrete_addr_state_30_one_hot', 'discrete_addr_state_31_one_hot',\n",
              "       'discrete_addr_state_32_one_hot', 'discrete_addr_state_33_one_hot',\n",
              "       'discrete_addr_state_34_one_hot', 'discrete_addr_state_35_one_hot',\n",
              "       'discrete_addr_state_36_one_hot', 'discrete_addr_state_37_one_hot',\n",
              "       'discrete_addr_state_38_one_hot', 'discrete_addr_state_39_one_hot',\n",
              "       'discrete_addr_state_40_one_hot', 'discrete_addr_state_41_one_hot',\n",
              "       'discrete_addr_state_42_one_hot', 'discrete_addr_state_43_one_hot',\n",
              "       'discrete_addr_state_44_one_hot', 'discrete_addr_state_45_one_hot',\n",
              "       'discrete_addr_state_46_one_hot', 'discrete_addr_state_47_one_hot',\n",
              "       'discrete_addr_state_48_one_hot', 'discrete_addr_state_49_one_hot',\n",
              "       'discrete_application_type_1_one_hot',\n",
              "       'discrete_application_type_2_one_hot',\n",
              "       'discrete_emp_length_1_one_hot', 'discrete_emp_length_2_one_hot',\n",
              "       'discrete_emp_length_3_one_hot', 'discrete_emp_length_4_one_hot',\n",
              "       'discrete_emp_length_5_one_hot', 'discrete_emp_length_6_one_hot',\n",
              "       'discrete_emp_length_7_one_hot', 'discrete_emp_length_8_one_hot',\n",
              "       'discrete_emp_length_9_one_hot', 'discrete_emp_length_10_one_hot',\n",
              "       'discrete_emp_length_11_one_hot', 'discrete_emp_length_12_one_hot',\n",
              "       'discrete_grade_1_one_hot', 'discrete_grade_2_one_hot',\n",
              "       'discrete_grade_3_one_hot', 'discrete_grade_4_one_hot',\n",
              "       'discrete_grade_5_one_hot', 'discrete_grade_6_one_hot',\n",
              "       'discrete_grade_7_one_hot', 'discrete_home_ownership_1_one_hot',\n",
              "       'discrete_home_ownership_2_one_hot',\n",
              "       'discrete_home_ownership_3_one_hot',\n",
              "       'discrete_home_ownership_4_one_hot',\n",
              "       'discrete_policy_code_1_one_hot', 'discrete_purpose_1_one_hot',\n",
              "       'discrete_purpose_2_one_hot', 'discrete_purpose_3_one_hot',\n",
              "       'discrete_purpose_4_one_hot', 'discrete_purpose_5_one_hot',\n",
              "       'discrete_purpose_6_one_hot', 'discrete_purpose_7_one_hot',\n",
              "       'discrete_purpose_8_one_hot', 'discrete_purpose_9_one_hot',\n",
              "       'discrete_purpose_10_one_hot', 'discrete_purpose_11_one_hot',\n",
              "       'discrete_purpose_12_one_hot', 'discrete_pymnt_plan_1_one_hot',\n",
              "       'discrete_sub_grade_1_one_hot', 'discrete_sub_grade_2_one_hot',\n",
              "       'discrete_sub_grade_3_one_hot', 'discrete_sub_grade_4_one_hot',\n",
              "       'discrete_sub_grade_5_one_hot', 'discrete_sub_grade_6_one_hot',\n",
              "       'discrete_sub_grade_7_one_hot', 'discrete_sub_grade_8_one_hot',\n",
              "       'discrete_sub_grade_9_one_hot', 'discrete_sub_grade_10_one_hot',\n",
              "       'discrete_sub_grade_11_one_hot', 'discrete_sub_grade_12_one_hot',\n",
              "       'discrete_sub_grade_13_one_hot', 'discrete_sub_grade_14_one_hot',\n",
              "       'discrete_sub_grade_15_one_hot', 'discrete_sub_grade_16_one_hot',\n",
              "       'discrete_sub_grade_17_one_hot', 'discrete_sub_grade_18_one_hot',\n",
              "       'discrete_sub_grade_19_one_hot', 'discrete_sub_grade_20_one_hot',\n",
              "       'discrete_sub_grade_21_one_hot', 'discrete_sub_grade_22_one_hot',\n",
              "       'discrete_sub_grade_23_one_hot', 'discrete_sub_grade_24_one_hot',\n",
              "       'discrete_sub_grade_25_one_hot', 'discrete_sub_grade_26_one_hot',\n",
              "       'discrete_sub_grade_27_one_hot', 'discrete_sub_grade_28_one_hot',\n",
              "       'discrete_sub_grade_29_one_hot', 'discrete_sub_grade_30_one_hot',\n",
              "       'discrete_sub_grade_31_one_hot', 'discrete_sub_grade_32_one_hot',\n",
              "       'discrete_sub_grade_33_one_hot', 'discrete_sub_grade_34_one_hot',\n",
              "       'discrete_sub_grade_35_one_hot', 'discrete_term_1_one_hot',\n",
              "       'discrete_term_2_one_hot'], dtype=object)"
            ]
          },
          "metadata": {
            "tags": []
          },
          "execution_count": 9
        }
      ]
    },
    {
      "cell_type": "code",
      "metadata": {
        "id": "rLpUsIAe_vqp"
      },
      "source": [
        ""
      ],
      "execution_count": null,
      "outputs": []
    },
    {
      "cell_type": "markdown",
      "metadata": {
        "id": "xR1aX0IsFIYj"
      },
      "source": [
        "### Stacking Model"
      ]
    },
    {
      "cell_type": "code",
      "metadata": {
        "id": "vR5TA0gwFMl3"
      },
      "source": [
        "from sklearn.ensemble import (RandomForestClassifier, AdaBoostClassifier, GradientBoostingClassifier, ExtraTreesClassifier)\n",
        "from sklearn.svm import SVC\n",
        "\n",
        "from lightgbm.sklearn import LGBMClassifier\n",
        "import xgboost as xgb\n",
        "\n",
        "from sklearn.model_selection import (GridSearchCV, KFold)\n",
        "from sklearn.metrics import accuracy_score\n",
        "\n",
        "import matplotlib.pyplot as plt\n",
        "%matplotlib inline\n",
        "\n"
      ],
      "execution_count": null,
      "outputs": []
    },
    {
      "cell_type": "code",
      "metadata": {
        "colab": {
          "base_uri": "https://localhost:8080/"
        },
        "id": "5uUTXjiL9NyF",
        "outputId": "4e105fcc-4533-457a-aeb7-bc36815f115f"
      },
      "source": [
        "from sklearn.ensemble import RandomForestClassifier\n",
        "rnd_clf = RandomForestClassifier(n_estimators=100, random_state=20)\n",
        "rnd_clf.fit(X_train,Y_train)\n",
        "rnd_clf.score(X_test,Y_test)"
      ],
      "execution_count": null,
      "outputs": [
        {
          "output_type": "execute_result",
          "data": {
            "text/plain": [
              "0.9164"
            ]
          },
          "metadata": {
            "tags": []
          },
          "execution_count": 15
        }
      ]
    },
    {
      "cell_type": "code",
      "metadata": {
        "colab": {
          "base_uri": "https://localhost:8080/"
        },
        "id": "WQr6xFyLEI2s",
        "outputId": "5e30136e-bc25-4f7c-c9df-04e0ade27242"
      },
      "source": [
        "from sklearn.linear_model import SGDClassifier\n",
        "sgd_clf = SGDClassifier(random_state=20)\n",
        "sgd_clf.fit(X_train,Y_train)\n",
        "sgd_clf.score(X_test,Y_test)"
      ],
      "execution_count": null,
      "outputs": [
        {
          "output_type": "execute_result",
          "data": {
            "text/plain": [
              "0.8639"
            ]
          },
          "metadata": {
            "tags": []
          },
          "execution_count": 16
        }
      ]
    },
    {
      "cell_type": "code",
      "metadata": {
        "colab": {
          "base_uri": "https://localhost:8080/"
        },
        "id": "UujT_e3VER3z",
        "outputId": "a3bae3a4-cca3-4a49-d367-cf65f6bd61a3"
      },
      "source": [
        "from sklearn.ensemble import GradientBoostingClassifier\n",
        "gdbt_clf = GradientBoostingClassifier(random_state = 20)\n",
        "gdbt_clf.fit(X_train,Y_train)\n",
        "gdbt_clf.score(X_test,Y_test)"
      ],
      "execution_count": null,
      "outputs": [
        {
          "output_type": "execute_result",
          "data": {
            "text/plain": [
              "0.91772"
            ]
          },
          "metadata": {
            "tags": []
          },
          "execution_count": 18
        }
      ]
    },
    {
      "cell_type": "code",
      "metadata": {
        "colab": {
          "base_uri": "https://localhost:8080/"
        },
        "id": "ORhU3T7mEpqL",
        "outputId": "b7851309-eca7-4b04-baa4-540525a76f68"
      },
      "source": [
        "from sklearn.ensemble import AdaBoostClassifier\n",
        "ada_clf = AdaBoostClassifier()\n",
        "ada_clf.fit(X_train,Y_train)\n",
        "ada_clf.score(X_test,Y_test)"
      ],
      "execution_count": null,
      "outputs": [
        {
          "output_type": "execute_result",
          "data": {
            "text/plain": [
              "0.91604"
            ]
          },
          "metadata": {
            "tags": []
          },
          "execution_count": 21
        }
      ]
    },
    {
      "cell_type": "code",
      "metadata": {
        "colab": {
          "base_uri": "https://localhost:8080/"
        },
        "id": "JmOPIGy9EzkD",
        "outputId": "af8ede9c-1e85-4580-ac24-0c4b4f01c12c"
      },
      "source": [
        "from lightgbm import LGBMClassifier\n",
        "lgbm_clf = LGBMClassifier()\n",
        "lgbm_clf.fit(X_train,Y_train)\n",
        "lgbm_clf.score(X_test,Y_test)"
      ],
      "execution_count": null,
      "outputs": [
        {
          "output_type": "execute_result",
          "data": {
            "text/plain": [
              "0.91768"
            ]
          },
          "metadata": {
            "tags": []
          },
          "execution_count": 23
        }
      ]
    },
    {
      "cell_type": "code",
      "metadata": {
        "colab": {
          "base_uri": "https://localhost:8080/"
        },
        "id": "DHEMEx9aEONR",
        "outputId": "91b0cb3f-79da-4bf5-a3f4-664b731f2b71"
      },
      "source": [
        "from sklearn.linear_model import LogisticRegression\n",
        "lr_clf = LogisticRegression(random_state = 20)\n",
        "lr_clf.fit(X_train,Y_train)\n",
        "lr_clf.score(X_test,Y_test)"
      ],
      "execution_count": null,
      "outputs": [
        {
          "output_type": "stream",
          "text": [
            "/usr/local/lib/python3.7/dist-packages/sklearn/linear_model/_logistic.py:940: ConvergenceWarning: lbfgs failed to converge (status=1):\n",
            "STOP: TOTAL NO. of ITERATIONS REACHED LIMIT.\n",
            "\n",
            "Increase the number of iterations (max_iter) or scale the data as shown in:\n",
            "    https://scikit-learn.org/stable/modules/preprocessing.html\n",
            "Please also refer to the documentation for alternative solver options:\n",
            "    https://scikit-learn.org/stable/modules/linear_model.html#logistic-regression\n",
            "  extra_warning_msg=_LOGISTIC_SOLVER_CONVERGENCE_MSG)\n"
          ],
          "name": "stderr"
        },
        {
          "output_type": "execute_result",
          "data": {
            "text/plain": [
              "0.91108"
            ]
          },
          "metadata": {
            "tags": []
          },
          "execution_count": 24
        }
      ]
    },
    {
      "cell_type": "code",
      "metadata": {
        "colab": {
          "base_uri": "https://localhost:8080/"
        },
        "id": "G0NO6rWaE7uA",
        "outputId": "f0327d69-456a-4856-da4c-142a9a9bd6c3"
      },
      "source": [
        "from xgboost import XGBClassifier\n",
        "xgb_clf = XGBClassifier()\n",
        "xgb_clf.fit(X_train,Y_train)\n",
        "xgb_clf.score(X_test,Y_test)"
      ],
      "execution_count": null,
      "outputs": [
        {
          "output_type": "execute_result",
          "data": {
            "text/plain": [
              "0.91712"
            ]
          },
          "metadata": {
            "tags": []
          },
          "execution_count": 26
        }
      ]
    },
    {
      "cell_type": "code",
      "metadata": {
        "id": "iHpW0D5V6Bu-"
      },
      "source": [
        "from sklearn.ensemble import VotingClassifier\n",
        "voting_clf = VotingClassifier(estimators=[('rf',rnd_clf ),('gdbt',gdbt_clf ),('ada',ada_clf ),('lgbm',lgbm_clf ),('xgb',xgb_clf )],\n",
        "                              voting='hard')"
      ],
      "execution_count": null,
      "outputs": []
    },
    {
      "cell_type": "code",
      "metadata": {
        "colab": {
          "base_uri": "https://localhost:8080/"
        },
        "id": "xtDkuHJBF4eh",
        "outputId": "3a5418a7-ca9a-492d-8e8b-21a983ffb465"
      },
      "source": [
        "voting_clf.fit(X_train,Y_train)\n",
        "voting_clf.score(X_test,Y_test)"
      ],
      "execution_count": null,
      "outputs": [
        {
          "output_type": "execute_result",
          "data": {
            "text/plain": [
              "0.91814"
            ]
          },
          "metadata": {
            "tags": []
          },
          "execution_count": 30
        }
      ]
    },
    {
      "cell_type": "markdown",
      "metadata": {
        "id": "AOsb-Fk-AEzI"
      },
      "source": [
        "### To Be Continued"
      ]
    }
  ]
}