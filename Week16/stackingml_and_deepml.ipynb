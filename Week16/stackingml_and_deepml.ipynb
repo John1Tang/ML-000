{
  "nbformat": 4,
  "nbformat_minor": 0,
  "metadata": {
    "colab": {
      "name": "stackingml_and_deepml.ipynb",
      "provenance": [],
      "collapsed_sections": [],
      "machine_shape": "hm",
      "authorship_tag": "ABX9TyOBF8GnK4UKW9lTajmzSUfZ",
      "include_colab_link": true
    },
    "kernelspec": {
      "name": "python3",
      "display_name": "Python 3"
    },
    "language_info": {
      "name": "python"
    },
    "accelerator": "GPU"
  },
  "cells": [
    {
      "cell_type": "markdown",
      "metadata": {
        "id": "view-in-github",
        "colab_type": "text"
      },
      "source": [
        "<a href=\"https://colab.research.google.com/github/John1Tang/ML-000/blob/main/Week16/stackingml_and_deepml.ipynb\" target=\"_parent\"><img src=\"https://colab.research.google.com/assets/colab-badge.svg\" alt=\"Open In Colab\"/></a>"
      ]
    },
    {
      "cell_type": "markdown",
      "metadata": {
        "id": "oA9jxRT-6XcG"
      },
      "source": [
        "### Load data and data preprocessing"
      ]
    },
    {
      "cell_type": "code",
      "metadata": {
        "id": "s3TkVcuRuWo2"
      },
      "source": [
        "import lightgbm as lgb\n",
        "import numpy as np\n",
        "import pandas as pd\n",
        "from sklearn.model_selection import KFold\n",
        "from sklearn.metrics import accuracy_score"
      ],
      "execution_count": 2,
      "outputs": []
    },
    {
      "cell_type": "code",
      "metadata": {
        "colab": {
          "base_uri": "https://localhost:8080/"
        },
        "id": "DzV68swO6V1X",
        "outputId": "7ff5d949-94f9-4315-bba6-4d8981c490d7"
      },
      "source": [
        "from google.colab import drive\n",
        "drive.mount('/content/drive')\n",
        "\n",
        "seed = 42 # for the same data division\n",
        "\n",
        "kf = KFold(n_splits=5, random_state=seed,shuffle=True)\n",
        "df_train = pd.read_csv('/content/drive/MyDrive/final/train_final.csv')\n",
        "df_test = pd.read_csv('/content/drive/MyDrive/final/test_final.csv')"
      ],
      "execution_count": 3,
      "outputs": [
        {
          "output_type": "stream",
          "text": [
            "Drive already mounted at /content/drive; to attempt to forcibly remount, call drive.mount(\"/content/drive\", force_remount=True).\n"
          ],
          "name": "stdout"
        }
      ]
    },
    {
      "cell_type": "code",
      "metadata": {
        "id": "b2EPTdMQDAUU"
      },
      "source": [
        "train_clean = df_train.copy()\n",
        "test_clean = df_test.copy()\n",
        "\n",
        "train_clean.fillna(0,inplace=True)\n",
        "test_clean.fillna(0,inplace=True)\n",
        "\n",
        "X_train = train_clean.drop(columns=['loan_status']).values\n",
        "Y_train = train_clean['loan_status'].values.astype(int)\n",
        "X_test = test_clean.drop(columns=['loan_status']).values\n",
        "Y_test = test_clean['loan_status'].values.astype(int)"
      ],
      "execution_count": 4,
      "outputs": []
    },
    {
      "cell_type": "code",
      "metadata": {
        "id": "YVhCy21e89Bu"
      },
      "source": [
        "from sklearn.preprocessing import MinMaxScaler\n",
        "ss = MinMaxScaler()\n",
        "ss.fit(X_train)\n",
        "train_x_std = ss.transform(X_train)\n",
        "ss2 = MinMaxScaler()\n",
        "ss2.fit(X_test)\n",
        "test_x_std = ss2.transform(X_test)"
      ],
      "execution_count": 5,
      "outputs": []
    },
    {
      "cell_type": "code",
      "metadata": {
        "id": "de3P6cjQRDsm",
        "outputId": "7e760e6d-bced-4eca-fe0c-d02a2aadcbef",
        "colab": {
          "base_uri": "https://localhost:8080/"
        }
      },
      "source": [
        "train_x_std.tolist()[0]"
      ],
      "execution_count": 6,
      "outputs": [
        {
          "output_type": "execute_result",
          "data": {
            "text/plain": [
              "[0.0061111111111111106,\n",
              " 0.0,\n",
              " 0.0,\n",
              " 0.005915915915915916,\n",
              " 0.0,\n",
              " 0.08064516129032251,\n",
              " 0.08108108108108114,\n",
              " 0.07647058823529412,\n",
              " 0.07782672540381791,\n",
              " 0.2,\n",
              " 0.08079767742128084,\n",
              " 0.36628643852978454,\n",
              " 0.6635294117647058,\n",
              " 0.6627218934911243,\n",
              " 0.07647058823529412,\n",
              " 0.19736842105263158,\n",
              " 0.19736842105263158,\n",
              " 0.0,\n",
              " 0.09090909090909091,\n",
              " 0.0,\n",
              " 1.0,\n",
              " 0.0,\n",
              " 0.0,\n",
              " 0.0,\n",
              " 0.0,\n",
              " 0.0,\n",
              " 0.0,\n",
              " 0.0,\n",
              " 0.0,\n",
              " 0.0,\n",
              " 0.0,\n",
              " 0.0,\n",
              " 0.0,\n",
              " 0.0,\n",
              " 0.0,\n",
              " 0.0,\n",
              " 0.0,\n",
              " 0.0,\n",
              " 0.0,\n",
              " 0.0,\n",
              " 0.0,\n",
              " 0.0,\n",
              " 0.0,\n",
              " 0.0,\n",
              " 0.0,\n",
              " 0.0,\n",
              " 0.0,\n",
              " 0.0,\n",
              " 0.0,\n",
              " 0.0,\n",
              " 0.0,\n",
              " 0.0,\n",
              " 0.0,\n",
              " 0.0,\n",
              " 0.0,\n",
              " 0.0,\n",
              " 0.0,\n",
              " 0.0,\n",
              " 0.0,\n",
              " 0.0,\n",
              " 0.0,\n",
              " 0.0,\n",
              " 0.0,\n",
              " 0.0,\n",
              " 0.0,\n",
              " 0.0,\n",
              " 0.0,\n",
              " 0.0,\n",
              " 0.0,\n",
              " 1.0,\n",
              " 0.0,\n",
              " 1.0,\n",
              " 0.0,\n",
              " 0.0,\n",
              " 0.0,\n",
              " 0.0,\n",
              " 0.0,\n",
              " 0.0,\n",
              " 0.0,\n",
              " 0.0,\n",
              " 0.0,\n",
              " 0.0,\n",
              " 0.0,\n",
              " 1.0,\n",
              " 0.0,\n",
              " 0.0,\n",
              " 0.0,\n",
              " 0.0,\n",
              " 0.0,\n",
              " 0.0,\n",
              " 1.0,\n",
              " 0.0,\n",
              " 0.0,\n",
              " 0.0,\n",
              " 0.0,\n",
              " 1.0,\n",
              " 0.0,\n",
              " 0.0,\n",
              " 0.0,\n",
              " 0.0,\n",
              " 0.0,\n",
              " 0.0,\n",
              " 0.0,\n",
              " 0.0,\n",
              " 0.0,\n",
              " 0.0,\n",
              " 0.0,\n",
              " 0.0,\n",
              " 1.0,\n",
              " 0.0,\n",
              " 0.0,\n",
              " 0.0,\n",
              " 0.0,\n",
              " 0.0,\n",
              " 0.0,\n",
              " 0.0,\n",
              " 0.0,\n",
              " 0.0,\n",
              " 0.0,\n",
              " 0.0,\n",
              " 0.0,\n",
              " 0.0,\n",
              " 0.0,\n",
              " 0.0,\n",
              " 0.0,\n",
              " 0.0,\n",
              " 0.0,\n",
              " 0.0,\n",
              " 0.0,\n",
              " 0.0,\n",
              " 0.0,\n",
              " 0.0,\n",
              " 0.0,\n",
              " 0.0,\n",
              " 0.0,\n",
              " 0.0,\n",
              " 0.0,\n",
              " 0.0,\n",
              " 0.0,\n",
              " 0.0,\n",
              " 0.0,\n",
              " 0.0,\n",
              " 0.0,\n",
              " 1.0,\n",
              " 0.0]"
            ]
          },
          "metadata": {
            "tags": []
          },
          "execution_count": 6
        }
      ]
    },
    {
      "cell_type": "code",
      "metadata": {
        "colab": {
          "base_uri": "https://localhost:8080/"
        },
        "id": "5jUly6Gf66x8",
        "outputId": "f7a38357-34ff-4f39-a7f1-e4f2b14785f2"
      },
      "source": [
        "X_train.shape, Y_train.shape"
      ],
      "execution_count": 13,
      "outputs": [
        {
          "output_type": "execute_result",
          "data": {
            "text/plain": [
              "((50000, 145), (50000,))"
            ]
          },
          "metadata": {
            "tags": []
          },
          "execution_count": 13
        }
      ]
    },
    {
      "cell_type": "code",
      "metadata": {
        "id": "ZlJDmTVp689L"
      },
      "source": [
        "# split data for five fold\n",
        "\n",
        "five_fold_data = []\n",
        "\n",
        "for train_index, eval_index in kf.split(X_train):\n",
        "  x_train, x_eval = X_train[train_index], X_train[eval_index]\n",
        "  y_train, y_eval = Y_train[train_index], Y_train[eval_index]\n",
        "  \n",
        "  five_fold_data.append([(x_train, y_train), (x_eval, y_eval)])"
      ],
      "execution_count": null,
      "outputs": []
    },
    {
      "cell_type": "markdown",
      "metadata": {
        "id": "HU56UVup6NX3"
      },
      "source": [
        "### EDA"
      ]
    },
    {
      "cell_type": "code",
      "metadata": {
        "colab": {
          "base_uri": "https://localhost:8080/",
          "height": 253
        },
        "id": "u8QrtXao6RzR",
        "outputId": "aebc903e-a54d-4d59-ed6f-14952dd368f1"
      },
      "source": [
        "df_train.head()"
      ],
      "execution_count": 19,
      "outputs": [
        {
          "output_type": "execute_result",
          "data": {
            "text/html": [
              "<div>\n",
              "<style scoped>\n",
              "    .dataframe tbody tr th:only-of-type {\n",
              "        vertical-align: middle;\n",
              "    }\n",
              "\n",
              "    .dataframe tbody tr th {\n",
              "        vertical-align: top;\n",
              "    }\n",
              "\n",
              "    .dataframe thead th {\n",
              "        text-align: right;\n",
              "    }\n",
              "</style>\n",
              "<table border=\"1\" class=\"dataframe\">\n",
              "  <thead>\n",
              "    <tr style=\"text-align: right;\">\n",
              "      <th></th>\n",
              "      <th>continuous_annual_inc</th>\n",
              "      <th>continuous_annual_inc_joint</th>\n",
              "      <th>continuous_delinq_2yrs</th>\n",
              "      <th>continuous_dti</th>\n",
              "      <th>continuous_dti_joint</th>\n",
              "      <th>continuous_fico_range_high</th>\n",
              "      <th>continuous_fico_range_low</th>\n",
              "      <th>continuous_funded_amnt</th>\n",
              "      <th>continuous_funded_amnt_inv</th>\n",
              "      <th>continuous_inq_last_6mths</th>\n",
              "      <th>continuous_installment</th>\n",
              "      <th>continuous_int_rate</th>\n",
              "      <th>continuous_last_fico_range_high</th>\n",
              "      <th>continuous_last_fico_range_low</th>\n",
              "      <th>continuous_loan_amnt</th>\n",
              "      <th>loan_status</th>\n",
              "      <th>continuous_mths_since_last_delinq</th>\n",
              "      <th>continuous_mths_since_last_major_derog</th>\n",
              "      <th>continuous_mths_since_last_record</th>\n",
              "      <th>continuous_open_acc</th>\n",
              "      <th>continuous_pub_rec</th>\n",
              "      <th>discrete_addr_state_1_one_hot</th>\n",
              "      <th>discrete_addr_state_2_one_hot</th>\n",
              "      <th>discrete_addr_state_3_one_hot</th>\n",
              "      <th>discrete_addr_state_4_one_hot</th>\n",
              "      <th>discrete_addr_state_5_one_hot</th>\n",
              "      <th>discrete_addr_state_6_one_hot</th>\n",
              "      <th>discrete_addr_state_7_one_hot</th>\n",
              "      <th>discrete_addr_state_8_one_hot</th>\n",
              "      <th>discrete_addr_state_9_one_hot</th>\n",
              "      <th>discrete_addr_state_10_one_hot</th>\n",
              "      <th>discrete_addr_state_11_one_hot</th>\n",
              "      <th>discrete_addr_state_12_one_hot</th>\n",
              "      <th>discrete_addr_state_13_one_hot</th>\n",
              "      <th>discrete_addr_state_14_one_hot</th>\n",
              "      <th>discrete_addr_state_15_one_hot</th>\n",
              "      <th>discrete_addr_state_16_one_hot</th>\n",
              "      <th>discrete_addr_state_17_one_hot</th>\n",
              "      <th>discrete_addr_state_18_one_hot</th>\n",
              "      <th>discrete_addr_state_19_one_hot</th>\n",
              "      <th>...</th>\n",
              "      <th>discrete_purpose_11_one_hot</th>\n",
              "      <th>discrete_purpose_12_one_hot</th>\n",
              "      <th>discrete_pymnt_plan_1_one_hot</th>\n",
              "      <th>discrete_sub_grade_1_one_hot</th>\n",
              "      <th>discrete_sub_grade_2_one_hot</th>\n",
              "      <th>discrete_sub_grade_3_one_hot</th>\n",
              "      <th>discrete_sub_grade_4_one_hot</th>\n",
              "      <th>discrete_sub_grade_5_one_hot</th>\n",
              "      <th>discrete_sub_grade_6_one_hot</th>\n",
              "      <th>discrete_sub_grade_7_one_hot</th>\n",
              "      <th>discrete_sub_grade_8_one_hot</th>\n",
              "      <th>discrete_sub_grade_9_one_hot</th>\n",
              "      <th>discrete_sub_grade_10_one_hot</th>\n",
              "      <th>discrete_sub_grade_11_one_hot</th>\n",
              "      <th>discrete_sub_grade_12_one_hot</th>\n",
              "      <th>discrete_sub_grade_13_one_hot</th>\n",
              "      <th>discrete_sub_grade_14_one_hot</th>\n",
              "      <th>discrete_sub_grade_15_one_hot</th>\n",
              "      <th>discrete_sub_grade_16_one_hot</th>\n",
              "      <th>discrete_sub_grade_17_one_hot</th>\n",
              "      <th>discrete_sub_grade_18_one_hot</th>\n",
              "      <th>discrete_sub_grade_19_one_hot</th>\n",
              "      <th>discrete_sub_grade_20_one_hot</th>\n",
              "      <th>discrete_sub_grade_21_one_hot</th>\n",
              "      <th>discrete_sub_grade_22_one_hot</th>\n",
              "      <th>discrete_sub_grade_23_one_hot</th>\n",
              "      <th>discrete_sub_grade_24_one_hot</th>\n",
              "      <th>discrete_sub_grade_25_one_hot</th>\n",
              "      <th>discrete_sub_grade_26_one_hot</th>\n",
              "      <th>discrete_sub_grade_27_one_hot</th>\n",
              "      <th>discrete_sub_grade_28_one_hot</th>\n",
              "      <th>discrete_sub_grade_29_one_hot</th>\n",
              "      <th>discrete_sub_grade_30_one_hot</th>\n",
              "      <th>discrete_sub_grade_31_one_hot</th>\n",
              "      <th>discrete_sub_grade_32_one_hot</th>\n",
              "      <th>discrete_sub_grade_33_one_hot</th>\n",
              "      <th>discrete_sub_grade_34_one_hot</th>\n",
              "      <th>discrete_sub_grade_35_one_hot</th>\n",
              "      <th>discrete_term_1_one_hot</th>\n",
              "      <th>discrete_term_2_one_hot</th>\n",
              "    </tr>\n",
              "  </thead>\n",
              "  <tbody>\n",
              "    <tr>\n",
              "      <th>0</th>\n",
              "      <td>55000.0</td>\n",
              "      <td>NaN</td>\n",
              "      <td>0.0</td>\n",
              "      <td>5.91</td>\n",
              "      <td>NaN</td>\n",
              "      <td>679.0</td>\n",
              "      <td>675.0</td>\n",
              "      <td>3600.0</td>\n",
              "      <td>3600.0</td>\n",
              "      <td>1.0</td>\n",
              "      <td>123.03</td>\n",
              "      <td>13.99</td>\n",
              "      <td>564.0</td>\n",
              "      <td>560.0</td>\n",
              "      <td>3600.0</td>\n",
              "      <td>1</td>\n",
              "      <td>30.0</td>\n",
              "      <td>30.0</td>\n",
              "      <td>NaN</td>\n",
              "      <td>7.0</td>\n",
              "      <td>0.0</td>\n",
              "      <td>1</td>\n",
              "      <td>0</td>\n",
              "      <td>0</td>\n",
              "      <td>0</td>\n",
              "      <td>0</td>\n",
              "      <td>0</td>\n",
              "      <td>0</td>\n",
              "      <td>0</td>\n",
              "      <td>0</td>\n",
              "      <td>0</td>\n",
              "      <td>0</td>\n",
              "      <td>0</td>\n",
              "      <td>0</td>\n",
              "      <td>0</td>\n",
              "      <td>0</td>\n",
              "      <td>0</td>\n",
              "      <td>0</td>\n",
              "      <td>0</td>\n",
              "      <td>0</td>\n",
              "      <td>...</td>\n",
              "      <td>0</td>\n",
              "      <td>0</td>\n",
              "      <td>1</td>\n",
              "      <td>1</td>\n",
              "      <td>0</td>\n",
              "      <td>0</td>\n",
              "      <td>0</td>\n",
              "      <td>0</td>\n",
              "      <td>0</td>\n",
              "      <td>0</td>\n",
              "      <td>0</td>\n",
              "      <td>0</td>\n",
              "      <td>0</td>\n",
              "      <td>0</td>\n",
              "      <td>0</td>\n",
              "      <td>0</td>\n",
              "      <td>0</td>\n",
              "      <td>0</td>\n",
              "      <td>0</td>\n",
              "      <td>0</td>\n",
              "      <td>0</td>\n",
              "      <td>0</td>\n",
              "      <td>0</td>\n",
              "      <td>0</td>\n",
              "      <td>0</td>\n",
              "      <td>0</td>\n",
              "      <td>0</td>\n",
              "      <td>0</td>\n",
              "      <td>0</td>\n",
              "      <td>0</td>\n",
              "      <td>0</td>\n",
              "      <td>0</td>\n",
              "      <td>0</td>\n",
              "      <td>0</td>\n",
              "      <td>0</td>\n",
              "      <td>0</td>\n",
              "      <td>0</td>\n",
              "      <td>0</td>\n",
              "      <td>1</td>\n",
              "      <td>0</td>\n",
              "    </tr>\n",
              "    <tr>\n",
              "      <th>1</th>\n",
              "      <td>65000.0</td>\n",
              "      <td>NaN</td>\n",
              "      <td>1.0</td>\n",
              "      <td>16.06</td>\n",
              "      <td>NaN</td>\n",
              "      <td>719.0</td>\n",
              "      <td>715.0</td>\n",
              "      <td>24700.0</td>\n",
              "      <td>24700.0</td>\n",
              "      <td>4.0</td>\n",
              "      <td>820.28</td>\n",
              "      <td>11.99</td>\n",
              "      <td>699.0</td>\n",
              "      <td>695.0</td>\n",
              "      <td>24700.0</td>\n",
              "      <td>1</td>\n",
              "      <td>6.0</td>\n",
              "      <td>NaN</td>\n",
              "      <td>NaN</td>\n",
              "      <td>22.0</td>\n",
              "      <td>0.0</td>\n",
              "      <td>0</td>\n",
              "      <td>1</td>\n",
              "      <td>0</td>\n",
              "      <td>0</td>\n",
              "      <td>0</td>\n",
              "      <td>0</td>\n",
              "      <td>0</td>\n",
              "      <td>0</td>\n",
              "      <td>0</td>\n",
              "      <td>0</td>\n",
              "      <td>0</td>\n",
              "      <td>0</td>\n",
              "      <td>0</td>\n",
              "      <td>0</td>\n",
              "      <td>0</td>\n",
              "      <td>0</td>\n",
              "      <td>0</td>\n",
              "      <td>0</td>\n",
              "      <td>0</td>\n",
              "      <td>...</td>\n",
              "      <td>0</td>\n",
              "      <td>0</td>\n",
              "      <td>1</td>\n",
              "      <td>0</td>\n",
              "      <td>1</td>\n",
              "      <td>0</td>\n",
              "      <td>0</td>\n",
              "      <td>0</td>\n",
              "      <td>0</td>\n",
              "      <td>0</td>\n",
              "      <td>0</td>\n",
              "      <td>0</td>\n",
              "      <td>0</td>\n",
              "      <td>0</td>\n",
              "      <td>0</td>\n",
              "      <td>0</td>\n",
              "      <td>0</td>\n",
              "      <td>0</td>\n",
              "      <td>0</td>\n",
              "      <td>0</td>\n",
              "      <td>0</td>\n",
              "      <td>0</td>\n",
              "      <td>0</td>\n",
              "      <td>0</td>\n",
              "      <td>0</td>\n",
              "      <td>0</td>\n",
              "      <td>0</td>\n",
              "      <td>0</td>\n",
              "      <td>0</td>\n",
              "      <td>0</td>\n",
              "      <td>0</td>\n",
              "      <td>0</td>\n",
              "      <td>0</td>\n",
              "      <td>0</td>\n",
              "      <td>0</td>\n",
              "      <td>0</td>\n",
              "      <td>0</td>\n",
              "      <td>0</td>\n",
              "      <td>1</td>\n",
              "      <td>0</td>\n",
              "    </tr>\n",
              "    <tr>\n",
              "      <th>2</th>\n",
              "      <td>63000.0</td>\n",
              "      <td>71000.0</td>\n",
              "      <td>0.0</td>\n",
              "      <td>10.78</td>\n",
              "      <td>13.85</td>\n",
              "      <td>699.0</td>\n",
              "      <td>695.0</td>\n",
              "      <td>20000.0</td>\n",
              "      <td>20000.0</td>\n",
              "      <td>0.0</td>\n",
              "      <td>432.66</td>\n",
              "      <td>10.78</td>\n",
              "      <td>704.0</td>\n",
              "      <td>700.0</td>\n",
              "      <td>20000.0</td>\n",
              "      <td>1</td>\n",
              "      <td>NaN</td>\n",
              "      <td>NaN</td>\n",
              "      <td>NaN</td>\n",
              "      <td>6.0</td>\n",
              "      <td>0.0</td>\n",
              "      <td>0</td>\n",
              "      <td>0</td>\n",
              "      <td>1</td>\n",
              "      <td>0</td>\n",
              "      <td>0</td>\n",
              "      <td>0</td>\n",
              "      <td>0</td>\n",
              "      <td>0</td>\n",
              "      <td>0</td>\n",
              "      <td>0</td>\n",
              "      <td>0</td>\n",
              "      <td>0</td>\n",
              "      <td>0</td>\n",
              "      <td>0</td>\n",
              "      <td>0</td>\n",
              "      <td>0</td>\n",
              "      <td>0</td>\n",
              "      <td>0</td>\n",
              "      <td>0</td>\n",
              "      <td>...</td>\n",
              "      <td>0</td>\n",
              "      <td>0</td>\n",
              "      <td>1</td>\n",
              "      <td>0</td>\n",
              "      <td>0</td>\n",
              "      <td>1</td>\n",
              "      <td>0</td>\n",
              "      <td>0</td>\n",
              "      <td>0</td>\n",
              "      <td>0</td>\n",
              "      <td>0</td>\n",
              "      <td>0</td>\n",
              "      <td>0</td>\n",
              "      <td>0</td>\n",
              "      <td>0</td>\n",
              "      <td>0</td>\n",
              "      <td>0</td>\n",
              "      <td>0</td>\n",
              "      <td>0</td>\n",
              "      <td>0</td>\n",
              "      <td>0</td>\n",
              "      <td>0</td>\n",
              "      <td>0</td>\n",
              "      <td>0</td>\n",
              "      <td>0</td>\n",
              "      <td>0</td>\n",
              "      <td>0</td>\n",
              "      <td>0</td>\n",
              "      <td>0</td>\n",
              "      <td>0</td>\n",
              "      <td>0</td>\n",
              "      <td>0</td>\n",
              "      <td>0</td>\n",
              "      <td>0</td>\n",
              "      <td>0</td>\n",
              "      <td>0</td>\n",
              "      <td>0</td>\n",
              "      <td>0</td>\n",
              "      <td>0</td>\n",
              "      <td>1</td>\n",
              "    </tr>\n",
              "    <tr>\n",
              "      <th>3</th>\n",
              "      <td>104433.0</td>\n",
              "      <td>NaN</td>\n",
              "      <td>1.0</td>\n",
              "      <td>25.37</td>\n",
              "      <td>NaN</td>\n",
              "      <td>699.0</td>\n",
              "      <td>695.0</td>\n",
              "      <td>10400.0</td>\n",
              "      <td>10400.0</td>\n",
              "      <td>3.0</td>\n",
              "      <td>289.91</td>\n",
              "      <td>22.45</td>\n",
              "      <td>704.0</td>\n",
              "      <td>700.0</td>\n",
              "      <td>10400.0</td>\n",
              "      <td>1</td>\n",
              "      <td>12.0</td>\n",
              "      <td>NaN</td>\n",
              "      <td>NaN</td>\n",
              "      <td>12.0</td>\n",
              "      <td>0.0</td>\n",
              "      <td>1</td>\n",
              "      <td>0</td>\n",
              "      <td>0</td>\n",
              "      <td>0</td>\n",
              "      <td>0</td>\n",
              "      <td>0</td>\n",
              "      <td>0</td>\n",
              "      <td>0</td>\n",
              "      <td>0</td>\n",
              "      <td>0</td>\n",
              "      <td>0</td>\n",
              "      <td>0</td>\n",
              "      <td>0</td>\n",
              "      <td>0</td>\n",
              "      <td>0</td>\n",
              "      <td>0</td>\n",
              "      <td>0</td>\n",
              "      <td>0</td>\n",
              "      <td>0</td>\n",
              "      <td>...</td>\n",
              "      <td>0</td>\n",
              "      <td>0</td>\n",
              "      <td>1</td>\n",
              "      <td>0</td>\n",
              "      <td>0</td>\n",
              "      <td>0</td>\n",
              "      <td>1</td>\n",
              "      <td>0</td>\n",
              "      <td>0</td>\n",
              "      <td>0</td>\n",
              "      <td>0</td>\n",
              "      <td>0</td>\n",
              "      <td>0</td>\n",
              "      <td>0</td>\n",
              "      <td>0</td>\n",
              "      <td>0</td>\n",
              "      <td>0</td>\n",
              "      <td>0</td>\n",
              "      <td>0</td>\n",
              "      <td>0</td>\n",
              "      <td>0</td>\n",
              "      <td>0</td>\n",
              "      <td>0</td>\n",
              "      <td>0</td>\n",
              "      <td>0</td>\n",
              "      <td>0</td>\n",
              "      <td>0</td>\n",
              "      <td>0</td>\n",
              "      <td>0</td>\n",
              "      <td>0</td>\n",
              "      <td>0</td>\n",
              "      <td>0</td>\n",
              "      <td>0</td>\n",
              "      <td>0</td>\n",
              "      <td>0</td>\n",
              "      <td>0</td>\n",
              "      <td>0</td>\n",
              "      <td>0</td>\n",
              "      <td>0</td>\n",
              "      <td>1</td>\n",
              "    </tr>\n",
              "    <tr>\n",
              "      <th>4</th>\n",
              "      <td>34000.0</td>\n",
              "      <td>NaN</td>\n",
              "      <td>0.0</td>\n",
              "      <td>10.20</td>\n",
              "      <td>NaN</td>\n",
              "      <td>694.0</td>\n",
              "      <td>690.0</td>\n",
              "      <td>11950.0</td>\n",
              "      <td>11950.0</td>\n",
              "      <td>0.0</td>\n",
              "      <td>405.18</td>\n",
              "      <td>13.44</td>\n",
              "      <td>759.0</td>\n",
              "      <td>755.0</td>\n",
              "      <td>11950.0</td>\n",
              "      <td>1</td>\n",
              "      <td>NaN</td>\n",
              "      <td>NaN</td>\n",
              "      <td>NaN</td>\n",
              "      <td>5.0</td>\n",
              "      <td>0.0</td>\n",
              "      <td>0</td>\n",
              "      <td>0</td>\n",
              "      <td>0</td>\n",
              "      <td>1</td>\n",
              "      <td>0</td>\n",
              "      <td>0</td>\n",
              "      <td>0</td>\n",
              "      <td>0</td>\n",
              "      <td>0</td>\n",
              "      <td>0</td>\n",
              "      <td>0</td>\n",
              "      <td>0</td>\n",
              "      <td>0</td>\n",
              "      <td>0</td>\n",
              "      <td>0</td>\n",
              "      <td>0</td>\n",
              "      <td>0</td>\n",
              "      <td>0</td>\n",
              "      <td>0</td>\n",
              "      <td>...</td>\n",
              "      <td>0</td>\n",
              "      <td>0</td>\n",
              "      <td>1</td>\n",
              "      <td>0</td>\n",
              "      <td>0</td>\n",
              "      <td>0</td>\n",
              "      <td>0</td>\n",
              "      <td>1</td>\n",
              "      <td>0</td>\n",
              "      <td>0</td>\n",
              "      <td>0</td>\n",
              "      <td>0</td>\n",
              "      <td>0</td>\n",
              "      <td>0</td>\n",
              "      <td>0</td>\n",
              "      <td>0</td>\n",
              "      <td>0</td>\n",
              "      <td>0</td>\n",
              "      <td>0</td>\n",
              "      <td>0</td>\n",
              "      <td>0</td>\n",
              "      <td>0</td>\n",
              "      <td>0</td>\n",
              "      <td>0</td>\n",
              "      <td>0</td>\n",
              "      <td>0</td>\n",
              "      <td>0</td>\n",
              "      <td>0</td>\n",
              "      <td>0</td>\n",
              "      <td>0</td>\n",
              "      <td>0</td>\n",
              "      <td>0</td>\n",
              "      <td>0</td>\n",
              "      <td>0</td>\n",
              "      <td>0</td>\n",
              "      <td>0</td>\n",
              "      <td>0</td>\n",
              "      <td>0</td>\n",
              "      <td>1</td>\n",
              "      <td>0</td>\n",
              "    </tr>\n",
              "  </tbody>\n",
              "</table>\n",
              "<p>5 rows × 146 columns</p>\n",
              "</div>"
            ],
            "text/plain": [
              "   continuous_annual_inc  ...  discrete_term_2_one_hot\n",
              "0                55000.0  ...                        0\n",
              "1                65000.0  ...                        0\n",
              "2                63000.0  ...                        1\n",
              "3               104433.0  ...                        1\n",
              "4                34000.0  ...                        0\n",
              "\n",
              "[5 rows x 146 columns]"
            ]
          },
          "metadata": {
            "tags": []
          },
          "execution_count": 19
        }
      ]
    },
    {
      "cell_type": "code",
      "metadata": {
        "colab": {
          "base_uri": "https://localhost:8080/"
        },
        "id": "ZMaYoK7Q-aH-",
        "outputId": "c30ca5ee-b2f7-4475-ad33-eba9a47995ed"
      },
      "source": [
        "df_train.columns.tolist()"
      ],
      "execution_count": null,
      "outputs": [
        {
          "output_type": "execute_result",
          "data": {
            "text/plain": [
              "['continuous_annual_inc',\n",
              " 'continuous_annual_inc_joint',\n",
              " 'continuous_delinq_2yrs',\n",
              " 'continuous_dti',\n",
              " 'continuous_dti_joint',\n",
              " 'continuous_fico_range_high',\n",
              " 'continuous_fico_range_low',\n",
              " 'continuous_funded_amnt',\n",
              " 'continuous_funded_amnt_inv',\n",
              " 'continuous_inq_last_6mths',\n",
              " 'continuous_installment',\n",
              " 'continuous_int_rate',\n",
              " 'continuous_last_fico_range_high',\n",
              " 'continuous_last_fico_range_low',\n",
              " 'continuous_loan_amnt',\n",
              " 'loan_status',\n",
              " 'continuous_mths_since_last_delinq',\n",
              " 'continuous_mths_since_last_major_derog',\n",
              " 'continuous_mths_since_last_record',\n",
              " 'continuous_open_acc',\n",
              " 'continuous_pub_rec',\n",
              " 'discrete_addr_state_1_one_hot',\n",
              " 'discrete_addr_state_2_one_hot',\n",
              " 'discrete_addr_state_3_one_hot',\n",
              " 'discrete_addr_state_4_one_hot',\n",
              " 'discrete_addr_state_5_one_hot',\n",
              " 'discrete_addr_state_6_one_hot',\n",
              " 'discrete_addr_state_7_one_hot',\n",
              " 'discrete_addr_state_8_one_hot',\n",
              " 'discrete_addr_state_9_one_hot',\n",
              " 'discrete_addr_state_10_one_hot',\n",
              " 'discrete_addr_state_11_one_hot',\n",
              " 'discrete_addr_state_12_one_hot',\n",
              " 'discrete_addr_state_13_one_hot',\n",
              " 'discrete_addr_state_14_one_hot',\n",
              " 'discrete_addr_state_15_one_hot',\n",
              " 'discrete_addr_state_16_one_hot',\n",
              " 'discrete_addr_state_17_one_hot',\n",
              " 'discrete_addr_state_18_one_hot',\n",
              " 'discrete_addr_state_19_one_hot',\n",
              " 'discrete_addr_state_20_one_hot',\n",
              " 'discrete_addr_state_21_one_hot',\n",
              " 'discrete_addr_state_22_one_hot',\n",
              " 'discrete_addr_state_23_one_hot',\n",
              " 'discrete_addr_state_24_one_hot',\n",
              " 'discrete_addr_state_25_one_hot',\n",
              " 'discrete_addr_state_26_one_hot',\n",
              " 'discrete_addr_state_27_one_hot',\n",
              " 'discrete_addr_state_28_one_hot',\n",
              " 'discrete_addr_state_29_one_hot',\n",
              " 'discrete_addr_state_30_one_hot',\n",
              " 'discrete_addr_state_31_one_hot',\n",
              " 'discrete_addr_state_32_one_hot',\n",
              " 'discrete_addr_state_33_one_hot',\n",
              " 'discrete_addr_state_34_one_hot',\n",
              " 'discrete_addr_state_35_one_hot',\n",
              " 'discrete_addr_state_36_one_hot',\n",
              " 'discrete_addr_state_37_one_hot',\n",
              " 'discrete_addr_state_38_one_hot',\n",
              " 'discrete_addr_state_39_one_hot',\n",
              " 'discrete_addr_state_40_one_hot',\n",
              " 'discrete_addr_state_41_one_hot',\n",
              " 'discrete_addr_state_42_one_hot',\n",
              " 'discrete_addr_state_43_one_hot',\n",
              " 'discrete_addr_state_44_one_hot',\n",
              " 'discrete_addr_state_45_one_hot',\n",
              " 'discrete_addr_state_46_one_hot',\n",
              " 'discrete_addr_state_47_one_hot',\n",
              " 'discrete_addr_state_48_one_hot',\n",
              " 'discrete_addr_state_49_one_hot',\n",
              " 'discrete_application_type_1_one_hot',\n",
              " 'discrete_application_type_2_one_hot',\n",
              " 'discrete_emp_length_1_one_hot',\n",
              " 'discrete_emp_length_2_one_hot',\n",
              " 'discrete_emp_length_3_one_hot',\n",
              " 'discrete_emp_length_4_one_hot',\n",
              " 'discrete_emp_length_5_one_hot',\n",
              " 'discrete_emp_length_6_one_hot',\n",
              " 'discrete_emp_length_7_one_hot',\n",
              " 'discrete_emp_length_8_one_hot',\n",
              " 'discrete_emp_length_9_one_hot',\n",
              " 'discrete_emp_length_10_one_hot',\n",
              " 'discrete_emp_length_11_one_hot',\n",
              " 'discrete_emp_length_12_one_hot',\n",
              " 'discrete_grade_1_one_hot',\n",
              " 'discrete_grade_2_one_hot',\n",
              " 'discrete_grade_3_one_hot',\n",
              " 'discrete_grade_4_one_hot',\n",
              " 'discrete_grade_5_one_hot',\n",
              " 'discrete_grade_6_one_hot',\n",
              " 'discrete_grade_7_one_hot',\n",
              " 'discrete_home_ownership_1_one_hot',\n",
              " 'discrete_home_ownership_2_one_hot',\n",
              " 'discrete_home_ownership_3_one_hot',\n",
              " 'discrete_home_ownership_4_one_hot',\n",
              " 'discrete_policy_code_1_one_hot',\n",
              " 'discrete_purpose_1_one_hot',\n",
              " 'discrete_purpose_2_one_hot',\n",
              " 'discrete_purpose_3_one_hot',\n",
              " 'discrete_purpose_4_one_hot',\n",
              " 'discrete_purpose_5_one_hot',\n",
              " 'discrete_purpose_6_one_hot',\n",
              " 'discrete_purpose_7_one_hot',\n",
              " 'discrete_purpose_8_one_hot',\n",
              " 'discrete_purpose_9_one_hot',\n",
              " 'discrete_purpose_10_one_hot',\n",
              " 'discrete_purpose_11_one_hot',\n",
              " 'discrete_purpose_12_one_hot',\n",
              " 'discrete_pymnt_plan_1_one_hot',\n",
              " 'discrete_sub_grade_1_one_hot',\n",
              " 'discrete_sub_grade_2_one_hot',\n",
              " 'discrete_sub_grade_3_one_hot',\n",
              " 'discrete_sub_grade_4_one_hot',\n",
              " 'discrete_sub_grade_5_one_hot',\n",
              " 'discrete_sub_grade_6_one_hot',\n",
              " 'discrete_sub_grade_7_one_hot',\n",
              " 'discrete_sub_grade_8_one_hot',\n",
              " 'discrete_sub_grade_9_one_hot',\n",
              " 'discrete_sub_grade_10_one_hot',\n",
              " 'discrete_sub_grade_11_one_hot',\n",
              " 'discrete_sub_grade_12_one_hot',\n",
              " 'discrete_sub_grade_13_one_hot',\n",
              " 'discrete_sub_grade_14_one_hot',\n",
              " 'discrete_sub_grade_15_one_hot',\n",
              " 'discrete_sub_grade_16_one_hot',\n",
              " 'discrete_sub_grade_17_one_hot',\n",
              " 'discrete_sub_grade_18_one_hot',\n",
              " 'discrete_sub_grade_19_one_hot',\n",
              " 'discrete_sub_grade_20_one_hot',\n",
              " 'discrete_sub_grade_21_one_hot',\n",
              " 'discrete_sub_grade_22_one_hot',\n",
              " 'discrete_sub_grade_23_one_hot',\n",
              " 'discrete_sub_grade_24_one_hot',\n",
              " 'discrete_sub_grade_25_one_hot',\n",
              " 'discrete_sub_grade_26_one_hot',\n",
              " 'discrete_sub_grade_27_one_hot',\n",
              " 'discrete_sub_grade_28_one_hot',\n",
              " 'discrete_sub_grade_29_one_hot',\n",
              " 'discrete_sub_grade_30_one_hot',\n",
              " 'discrete_sub_grade_31_one_hot',\n",
              " 'discrete_sub_grade_32_one_hot',\n",
              " 'discrete_sub_grade_33_one_hot',\n",
              " 'discrete_sub_grade_34_one_hot',\n",
              " 'discrete_sub_grade_35_one_hot',\n",
              " 'discrete_term_1_one_hot',\n",
              " 'discrete_term_2_one_hot']"
            ]
          },
          "metadata": {
            "tags": []
          },
          "execution_count": 6
        }
      ]
    },
    {
      "cell_type": "code",
      "metadata": {
        "id": "rLpUsIAe_vqp"
      },
      "source": [
        ""
      ],
      "execution_count": null,
      "outputs": []
    },
    {
      "cell_type": "markdown",
      "metadata": {
        "id": "xR1aX0IsFIYj"
      },
      "source": [
        "### Integrate Model"
      ]
    },
    {
      "cell_type": "code",
      "metadata": {
        "id": "vR5TA0gwFMl3"
      },
      "source": [
        "from sklearn.ensemble import (RandomForestClassifier, AdaBoostClassifier, GradientBoostingClassifier, ExtraTreesClassifier)\n",
        "from sklearn.svm import SVC\n",
        "\n",
        "from lightgbm.sklearn import LGBMClassifier\n",
        "import xgboost as xgb\n",
        "\n",
        "from sklearn.model_selection import (GridSearchCV, KFold)\n",
        "from sklearn.metrics import accuracy_score\n",
        "\n",
        "import matplotlib.pyplot as plt\n",
        "%matplotlib inline\n",
        "\n"
      ],
      "execution_count": null,
      "outputs": []
    },
    {
      "cell_type": "code",
      "metadata": {
        "colab": {
          "base_uri": "https://localhost:8080/"
        },
        "id": "5uUTXjiL9NyF",
        "outputId": "4e105fcc-4533-457a-aeb7-bc36815f115f"
      },
      "source": [
        "from sklearn.ensemble import RandomForestClassifier\n",
        "rnd_clf = RandomForestClassifier(n_estimators=100, random_state=20)\n",
        "rnd_clf.fit(X_train,Y_train)\n",
        "rnd_clf.score(X_test,Y_test)"
      ],
      "execution_count": null,
      "outputs": [
        {
          "output_type": "execute_result",
          "data": {
            "text/plain": [
              "0.9164"
            ]
          },
          "metadata": {
            "tags": []
          },
          "execution_count": 15
        }
      ]
    },
    {
      "cell_type": "code",
      "metadata": {
        "colab": {
          "base_uri": "https://localhost:8080/"
        },
        "id": "WQr6xFyLEI2s",
        "outputId": "5e30136e-bc25-4f7c-c9df-04e0ade27242"
      },
      "source": [
        "from sklearn.linear_model import SGDClassifier\n",
        "sgd_clf = SGDClassifier(random_state=20)\n",
        "sgd_clf.fit(X_train,Y_train)\n",
        "sgd_clf.score(X_test,Y_test)"
      ],
      "execution_count": null,
      "outputs": [
        {
          "output_type": "execute_result",
          "data": {
            "text/plain": [
              "0.8639"
            ]
          },
          "metadata": {
            "tags": []
          },
          "execution_count": 16
        }
      ]
    },
    {
      "cell_type": "code",
      "metadata": {
        "colab": {
          "base_uri": "https://localhost:8080/"
        },
        "id": "UujT_e3VER3z",
        "outputId": "ba53e4aa-4115-4ae6-d9bd-188f7164f418"
      },
      "source": [
        "from sklearn.ensemble import GradientBoostingClassifier\n",
        "gdbt_clf = GradientBoostingClassifier(random_state = 20)\n",
        "gdbt_clf.fit(X_train,Y_train)\n",
        "gdbt_clf.score(X_test,Y_test)"
      ],
      "execution_count": null,
      "outputs": [
        {
          "output_type": "execute_result",
          "data": {
            "text/plain": [
              "0.91772"
            ]
          },
          "metadata": {
            "tags": []
          },
          "execution_count": 28
        }
      ]
    },
    {
      "cell_type": "code",
      "metadata": {
        "colab": {
          "base_uri": "https://localhost:8080/"
        },
        "id": "ORhU3T7mEpqL",
        "outputId": "eeeda58c-9c2a-4bd5-ee55-f93510bbd5a7"
      },
      "source": [
        "from sklearn.ensemble import AdaBoostClassifier\n",
        "ada_clf = AdaBoostClassifier()\n",
        "ada_clf.fit(X_train,Y_train)\n",
        "ada_clf.score(X_test,Y_test)"
      ],
      "execution_count": null,
      "outputs": [
        {
          "output_type": "execute_result",
          "data": {
            "text/plain": [
              "0.91604"
            ]
          },
          "metadata": {
            "tags": []
          },
          "execution_count": 9
        }
      ]
    },
    {
      "cell_type": "code",
      "metadata": {
        "colab": {
          "base_uri": "https://localhost:8080/"
        },
        "id": "JmOPIGy9EzkD",
        "outputId": "b39bc011-497d-4594-801b-40a7984ff372"
      },
      "source": [
        "from lightgbm import LGBMClassifier\n",
        "lgbm_clf = LGBMClassifier()\n",
        "lgbm_clf.fit(X_train,Y_train)\n",
        "lgbm_clf.score(X_test,Y_test)"
      ],
      "execution_count": null,
      "outputs": [
        {
          "output_type": "execute_result",
          "data": {
            "text/plain": [
              "0.91768"
            ]
          },
          "metadata": {
            "tags": []
          },
          "execution_count": 11
        }
      ]
    },
    {
      "cell_type": "code",
      "metadata": {
        "colab": {
          "base_uri": "https://localhost:8080/"
        },
        "id": "DHEMEx9aEONR",
        "outputId": "91b0cb3f-79da-4bf5-a3f4-664b731f2b71"
      },
      "source": [
        "from sklearn.linear_model import LogisticRegression\n",
        "lr_clf = LogisticRegression(random_state = 20)\n",
        "lr_clf.fit(X_train,Y_train)\n",
        "lr_clf.score(X_test,Y_test)"
      ],
      "execution_count": null,
      "outputs": [
        {
          "output_type": "stream",
          "text": [
            "/usr/local/lib/python3.7/dist-packages/sklearn/linear_model/_logistic.py:940: ConvergenceWarning: lbfgs failed to converge (status=1):\n",
            "STOP: TOTAL NO. of ITERATIONS REACHED LIMIT.\n",
            "\n",
            "Increase the number of iterations (max_iter) or scale the data as shown in:\n",
            "    https://scikit-learn.org/stable/modules/preprocessing.html\n",
            "Please also refer to the documentation for alternative solver options:\n",
            "    https://scikit-learn.org/stable/modules/linear_model.html#logistic-regression\n",
            "  extra_warning_msg=_LOGISTIC_SOLVER_CONVERGENCE_MSG)\n"
          ],
          "name": "stderr"
        },
        {
          "output_type": "execute_result",
          "data": {
            "text/plain": [
              "0.91108"
            ]
          },
          "metadata": {
            "tags": []
          },
          "execution_count": 24
        }
      ]
    },
    {
      "cell_type": "code",
      "metadata": {
        "colab": {
          "base_uri": "https://localhost:8080/"
        },
        "id": "G0NO6rWaE7uA",
        "outputId": "f0327d69-456a-4856-da4c-142a9a9bd6c3"
      },
      "source": [
        "from xgboost import XGBClassifier\n",
        "xgb_clf = XGBClassifier()\n",
        "xgb_clf.fit(X_train,Y_train)\n",
        "xgb_clf.score(X_test,Y_test)"
      ],
      "execution_count": null,
      "outputs": [
        {
          "output_type": "execute_result",
          "data": {
            "text/plain": [
              "0.91712"
            ]
          },
          "metadata": {
            "tags": []
          },
          "execution_count": 26
        }
      ]
    },
    {
      "cell_type": "code",
      "metadata": {
        "id": "kTiBDQjs73_S",
        "colab": {
          "base_uri": "https://localhost:8080/"
        },
        "outputId": "9fcc89c3-4044-4e51-dd54-1ddb54c23a20"
      },
      "source": [
        "from sklearn.neighbors import KNeighborsClassifier\n",
        "knc_clf = KNeighborsClassifier()\n",
        "knc_clf.fit(train_x_std,Y_train)\n",
        "knc_clf.score(test_x_std,Y_test)\n",
        "# knc_clf.fit(X_train,Y_train)\n",
        "# knc_clf.score(X_train,Y_test)"
      ],
      "execution_count": 6,
      "outputs": [
        {
          "output_type": "execute_result",
          "data": {
            "text/plain": [
              "0.8135"
            ]
          },
          "metadata": {
            "tags": []
          },
          "execution_count": 6
        }
      ]
    },
    {
      "cell_type": "code",
      "metadata": {
        "id": "iHpW0D5V6Bu-"
      },
      "source": [
        "from sklearn.ensemble import VotingClassifier\n",
        "voting_clf = VotingClassifier(estimators=[('rf',rnd_clf ),('gdbt',gdbt_clf ),('ada',ada_clf ),('lgbm',lgbm_clf ),('xgb',xgb_clf )],\n",
        "                              voting='hard')"
      ],
      "execution_count": null,
      "outputs": []
    },
    {
      "cell_type": "code",
      "metadata": {
        "colab": {
          "base_uri": "https://localhost:8080/"
        },
        "id": "xtDkuHJBF4eh",
        "outputId": "3a5418a7-ca9a-492d-8e8b-21a983ffb465"
      },
      "source": [
        "voting_clf.fit(X_train,Y_train)\n",
        "voting_clf.score(X_test,Y_test)"
      ],
      "execution_count": null,
      "outputs": [
        {
          "output_type": "execute_result",
          "data": {
            "text/plain": [
              "0.91814"
            ]
          },
          "metadata": {
            "tags": []
          },
          "execution_count": 30
        }
      ]
    },
    {
      "cell_type": "markdown",
      "metadata": {
        "id": "c58_LafpmFiE"
      },
      "source": [
        "### Stacking Model"
      ]
    },
    {
      "cell_type": "code",
      "metadata": {
        "id": "L80-9dQjz7w8"
      },
      "source": [
        "X = train_x_std\n",
        "X_predict = test_x_std\n",
        "y = Y_train"
      ],
      "execution_count": 7,
      "outputs": []
    },
    {
      "cell_type": "code",
      "metadata": {
        "id": "0g4M_Hm--cER",
        "colab": {
          "base_uri": "https://localhost:8080/"
        },
        "outputId": "ba5cf2a5-2af7-4752-e4ac-022eca99d273"
      },
      "source": [
        "X_predict.shape[0]"
      ],
      "execution_count": 8,
      "outputs": [
        {
          "output_type": "execute_result",
          "data": {
            "text/plain": [
              "50000"
            ]
          },
          "metadata": {
            "tags": []
          },
          "execution_count": 8
        }
      ]
    },
    {
      "cell_type": "code",
      "metadata": {
        "id": "FgysZbjF1UJ0"
      },
      "source": [
        "from sklearn.model_selection import train_test_split, StratifiedKFold\n",
        "n_folds = 5\n",
        "skf=StratifiedKFold(n_splits=n_folds,random_state=None)\n",
        "# X, X_predict, y, y_predict = train_test_split(data, target, test_size=0.2, random_state=2020)"
      ],
      "execution_count": 9,
      "outputs": []
    },
    {
      "cell_type": "code",
      "metadata": {
        "id": "fldPfhySgyJC"
      },
      "source": [
        "from sklearn.linear_model import LogisticRegression\n",
        "from sklearn import svm\n",
        "from sklearn.metrics import roc_auc_score\n",
        "import xgboost as xgb\n",
        "from sklearn.ensemble import RandomForestClassifier, ExtraTreesClassifier, GradientBoostingClassifier\n",
        "\n",
        "clfs = [RandomForestClassifier(n_estimators=5, n_jobs=-1, criterion='gini'),\n",
        "        RandomForestClassifier(n_estimators=5, n_jobs=-1, criterion='entropy'),\n",
        "        ExtraTreesClassifier(n_estimators=5, n_jobs=-1, criterion='gini'),\n",
        "        ExtraTreesClassifier(n_estimators=5, n_jobs=-1, criterion='entropy'),\n",
        "        GradientBoostingClassifier(learning_rate=0.05, subsample=0.5, max_depth=6, n_estimators=5)]"
      ],
      "execution_count": 20,
      "outputs": []
    },
    {
      "cell_type": "code",
      "metadata": {
        "id": "spLBxeB8RY3G"
      },
      "source": [
        "dataset_blend_train = np.zeros((X.shape[0], len(clfs)))  \n",
        "dataset_blend_test = np.zeros((X_predict.shape[0], len(clfs)))"
      ],
      "execution_count": 22,
      "outputs": []
    },
    {
      "cell_type": "markdown",
      "metadata": {
        "id": "5HerfcW93LE0"
      },
      "source": [
        "Layer 1"
      ]
    },
    {
      "cell_type": "code",
      "metadata": {
        "id": "WmBsgot63DSA"
      },
      "source": [
        "for j, clf in enumerate(clfs):\n",
        "    # print(j, clf)\n",
        "    dataset_blend_test_j = np.zeros((X_predict.shape[0], len(clfs)))\n",
        "    for i, (train, test) in enumerate(skf.split(X_train, Y_train)):\n",
        "        # print(\"Fold\", i)\n",
        "        X_train_inner, y_train_inner, X_test_inner, y_test_inner = X[train], y[train], X[test], y[test]\n",
        "        clf.fit(X_train_inner, y_train_inner)\n",
        "        y_submission = clf.predict_proba(X_test_inner)[:, 1]\n",
        "        dataset_blend_train[test, j] = y_submission\n",
        "        dataset_blend_test_j[:, i] = clf.predict_proba(X_predict)[:, 1]\n",
        "    dataset_blend_test[:, j] = dataset_blend_test_j.mean(1)"
      ],
      "execution_count": 23,
      "outputs": []
    },
    {
      "cell_type": "markdown",
      "metadata": {
        "id": "0j4zR6U05gp7"
      },
      "source": [
        "Layer 2"
      ]
    },
    {
      "cell_type": "code",
      "metadata": {
        "id": "uDFPdnU75nYF"
      },
      "source": [
        "clf2 = LogisticRegression(C=0.1,max_iter=100)\n",
        "clf2.fit(dataset_blend_train, y)\n",
        "y_submission = clf2.predict_proba(dataset_blend_test)[:, 1]"
      ],
      "execution_count": 24,
      "outputs": []
    },
    {
      "cell_type": "code",
      "metadata": {
        "colab": {
          "base_uri": "https://localhost:8080/"
        },
        "id": "CGJTxMDhI3W7",
        "outputId": "0478f204-92c7-44a3-c15c-a6eceb09c84a"
      },
      "source": [
        "print(\"Linear stretch of predictions to [0,1]\")\n",
        "y_submission = (y_submission - y_submission.min()) / (y_submission.max() - y_submission.min())\n",
        "print(\"blend result\")\n",
        "print(\"val auc Score: %f\" % (roc_auc_score(Y_test, y_submission)))"
      ],
      "execution_count": 25,
      "outputs": [
        {
          "output_type": "stream",
          "text": [
            "Linear stretch of predictions to [0,1]\n",
            "blend result\n",
            "val auc Score: 0.955269\n"
          ],
          "name": "stdout"
        }
      ]
    },
    {
      "cell_type": "markdown",
      "metadata": {
        "id": "uLwlLzkt93tF"
      },
      "source": [
        "### Deep Learning -- Tabnet & improve"
      ]
    },
    {
      "cell_type": "code",
      "metadata": {
        "colab": {
          "base_uri": "https://localhost:8080/"
        },
        "id": "yyNu3jXMPTcw",
        "outputId": "02eabc54-a02a-430e-aa9f-a5c39fc3a82a"
      },
      "source": [
        "!pip install einops"
      ],
      "execution_count": 7,
      "outputs": [
        {
          "output_type": "stream",
          "text": [
            "Collecting pytorch-tabnet\n",
            "  Downloading https://files.pythonhosted.org/packages/94/e5/2a808d611a5d44e3c997c0d07362c04a56c70002208e00aec9eee3d923b5/pytorch_tabnet-3.1.1-py3-none-any.whl\n",
            "Requirement already satisfied: scipy>1.4 in /usr/local/lib/python3.7/dist-packages (from pytorch-tabnet) (1.4.1)\n",
            "Requirement already satisfied: torch<2.0,>=1.2 in /usr/local/lib/python3.7/dist-packages (from pytorch-tabnet) (1.8.1+cu101)\n",
            "Requirement already satisfied: scikit_learn>0.21 in /usr/local/lib/python3.7/dist-packages (from pytorch-tabnet) (0.22.2.post1)\n",
            "Requirement already satisfied: numpy<2.0,>=1.17 in /usr/local/lib/python3.7/dist-packages (from pytorch-tabnet) (1.19.5)\n",
            "Requirement already satisfied: tqdm<5.0,>=4.36 in /usr/local/lib/python3.7/dist-packages (from pytorch-tabnet) (4.41.1)\n",
            "Requirement already satisfied: typing-extensions in /usr/local/lib/python3.7/dist-packages (from torch<2.0,>=1.2->pytorch-tabnet) (3.7.4.3)\n",
            "Requirement already satisfied: joblib>=0.11 in /usr/local/lib/python3.7/dist-packages (from scikit_learn>0.21->pytorch-tabnet) (1.0.1)\n",
            "Installing collected packages: pytorch-tabnet\n",
            "Successfully installed pytorch-tabnet-3.1.1\n"
          ],
          "name": "stdout"
        }
      ]
    },
    {
      "cell_type": "code",
      "metadata": {
        "id": "ZtUC0sLOPiVi"
      },
      "source": [
        ""
      ],
      "execution_count": null,
      "outputs": []
    },
    {
      "cell_type": "markdown",
      "metadata": {
        "id": "AOsb-Fk-AEzI"
      },
      "source": [
        "### To Be Continued"
      ]
    }
  ]
}