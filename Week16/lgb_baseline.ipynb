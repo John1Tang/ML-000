{
  "nbformat": 4,
  "nbformat_minor": 0,
  "metadata": {
    "colab": {
      "name": "lgb_baseline.ipynb",
      "provenance": [],
      "toc_visible": true,
      "include_colab_link": true
    },
    "kernelspec": {
      "display_name": "Python 3",
      "language": "python",
      "name": "python3"
    },
    "language_info": {
      "codemirror_mode": {
        "name": "ipython",
        "version": 3
      },
      "file_extension": ".py",
      "mimetype": "text/x-python",
      "name": "python",
      "nbconvert_exporter": "python",
      "pygments_lexer": "ipython3",
      "version": "3.8.3"
    }
  },
  "cells": [
    {
      "cell_type": "markdown",
      "metadata": {
        "id": "view-in-github",
        "colab_type": "text"
      },
      "source": [
        "<a href=\"https://colab.research.google.com/github/John1Tang/ML-000/blob/main/Week16/lgb_baseline.ipynb\" target=\"_parent\"><img src=\"https://colab.research.google.com/assets/colab-badge.svg\" alt=\"Open In Colab\"/></a>"
      ]
    },
    {
      "cell_type": "code",
      "metadata": {
        "id": "uCEMzcaHNW7r"
      },
      "source": [
        "import lightgbm as lgb\n",
        "import numpy as np\n",
        "import pandas as pd\n",
        "from sklearn.model_selection import KFold\n",
        "from sklearn.metrics import accuracy_score"
      ],
      "execution_count": null,
      "outputs": []
    },
    {
      "cell_type": "markdown",
      "metadata": {
        "id": "TdkGYBbaNW7x"
      },
      "source": [
        "# Load data and data preprocessing"
      ]
    },
    {
      "cell_type": "code",
      "metadata": {
        "id": "UGzgRW-cNpDp",
        "colab": {
          "base_uri": "https://localhost:8080/"
        },
        "outputId": "487f6420-c873-4c3e-a0de-59991c190834"
      },
      "source": [
        "from google.colab import drive\n",
        "drive.mount('/content/drive')"
      ],
      "execution_count": null,
      "outputs": [
        {
          "output_type": "stream",
          "text": [
            "Mounted at /content/drive\n"
          ],
          "name": "stdout"
        }
      ]
    },
    {
      "cell_type": "code",
      "metadata": {
        "id": "PfvoCDE5NW7y"
      },
      "source": [
        "seed = 42 # for the same data division\n",
        "\n",
        "kf = KFold(n_splits=5, random_state=seed,shuffle=True)\n",
        "df_train = pd.read_csv('/content/drive/MyDrive/final/train_final.csv')\n",
        "df_test = pd.read_csv('/content/drive/MyDrive/final/test_final.csv')\n",
        "\n",
        "X_train = df_train.drop(columns=['loan_status']).values\n",
        "Y_train = df_train['loan_status'].values.astype(int)\n",
        "X_test = df_test.drop(columns=['loan_status']).values\n",
        "Y_test = df_test['loan_status'].values.astype(int)"
      ],
      "execution_count": null,
      "outputs": []
    },
    {
      "cell_type": "code",
      "metadata": {
        "id": "scaDw3aUNW7y",
        "colab": {
          "base_uri": "https://localhost:8080/"
        },
        "outputId": "147c5d58-3a47-4d1a-a610-f666295029b7"
      },
      "source": [
        "X_train.shape, Y_train.shape"
      ],
      "execution_count": null,
      "outputs": [
        {
          "output_type": "execute_result",
          "data": {
            "text/plain": [
              "((50000, 145), (50000,))"
            ]
          },
          "metadata": {
            "tags": []
          },
          "execution_count": 6
        }
      ]
    },
    {
      "cell_type": "code",
      "metadata": {
        "id": "X4qpt7AkNW7z"
      },
      "source": [
        "# split data for five fold\n",
        "\n",
        "five_fold_data = []\n",
        "\n",
        "for train_index, eval_index in kf.split(X_train):\n",
        "    x_train, x_eval = X_train[train_index], X_train[eval_index]\n",
        "    y_train, y_eval = Y_train[train_index], Y_train[eval_index]\n",
        "    \n",
        "    five_fold_data.append([(x_train, y_train), (x_eval, y_eval)])"
      ],
      "execution_count": null,
      "outputs": []
    },
    {
      "cell_type": "markdown",
      "metadata": {
        "id": "ZakHG37PNW7z"
      },
      "source": [
        "# Algorithm"
      ]
    },
    {
      "cell_type": "code",
      "metadata": {
        "id": "i3dpwU1gNW70"
      },
      "source": [
        "def get_model(param):\n",
        "    model_list = []\n",
        "    for idx, [(x_train, y_train), (x_eval, y_eval)] in enumerate(five_fold_data):\n",
        "        print('{}-th model is training:'.format(idx))\n",
        "        train_data = lgb.Dataset(x_train, label=y_train)\n",
        "        validation_data = lgb.Dataset(x_eval, label=y_eval)\n",
        "        bst = lgb.train(param, train_data, valid_sets=[validation_data])\n",
        "        model_list.append(bst)\n",
        "    return model_list"
      ],
      "execution_count": null,
      "outputs": []
    },
    {
      "cell_type": "markdown",
      "metadata": {
        "id": "msmThF_NNW70"
      },
      "source": [
        "# train"
      ]
    },
    {
      "cell_type": "code",
      "metadata": {
        "id": "iyGDeHnFNW70"
      },
      "source": [
        "param_base = {'num_leaves': 31, 'objective': 'binary', 'metric': 'binary', 'num_round':1000}\n",
        "\n",
        "param_fine_tuning = {'num_thread': 8,'num_leaves': 128, 'metric': 'binary', 'objective': 'binary', 'num_round': 1000, \n",
        "                     'learning_rate': 3e-3, 'feature_fraction': 0.6, 'bagging_fraction': 0.8}"
      ],
      "execution_count": null,
      "outputs": []
    },
    {
      "cell_type": "code",
      "metadata": {
        "id": "YfQyYayyNW71"
      },
      "source": [
        "# base param train\n",
        "param_base_model = get_model(param_base)\n",
        "\n",
        "# param fine tuning\n",
        "param_fine_tuning_model = get_model(param_fine_tuning)"
      ],
      "execution_count": null,
      "outputs": []
    },
    {
      "cell_type": "markdown",
      "metadata": {
        "id": "bLcV6nFjNW71"
      },
      "source": [
        "# test"
      ]
    },
    {
      "cell_type": "code",
      "metadata": {
        "id": "us1ymS-HNW71"
      },
      "source": [
        "def test_model(model_list):\n",
        "    data = X_test\n",
        "    five_fold_pred = np.zeros((5, len(X_test)))\n",
        "    for i, bst in enumerate(model_list):\n",
        "        ypred = bst.predict(data, num_iteration=bst.best_iteration)\n",
        "        five_fold_pred[i] = ypred\n",
        "    ypred_mean = (five_fold_pred.mean(axis=-2)>0.5).astype(int)\n",
        "    return accuracy_score(ypred_mean, Y_test)"
      ],
      "execution_count": null,
      "outputs": []
    },
    {
      "cell_type": "code",
      "metadata": {
        "id": "qSL1hdaXNW72",
        "colab": {
          "base_uri": "https://localhost:8080/"
        },
        "outputId": "2fc038ec-8491-441c-a51b-baa2f4dd66ea"
      },
      "source": [
        "base_score = test_model(param_base_model)\n",
        "fine_tuning_score = test_model(param_fine_tuning_model)\n",
        "\n",
        "print('base: {}, fine tuning: {}'.format(base_score, fine_tuning_score))"
      ],
      "execution_count": null,
      "outputs": [
        {
          "output_type": "stream",
          "text": [
            "base: 0.91584, fine tuning: 0.91762\n"
          ],
          "name": "stdout"
        }
      ]
    }
  ]
}